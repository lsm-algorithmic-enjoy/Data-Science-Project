{
  "nbformat": 4,
  "nbformat_minor": 0,
  "metadata": {
    "kernelspec": {
      "display_name": "Python 3",
      "language": "python",
      "name": "python3"
    },
    "language_info": {
      "codemirror_mode": {
        "name": "ipython",
        "version": 3
      },
      "file_extension": ".py",
      "mimetype": "text/x-python",
      "name": "python",
      "nbconvert_exporter": "python",
      "pygments_lexer": "ipython3",
      "version": "3.8.3"
    },
    "colab": {
      "name": "PANDAS 실생활 적용예제.ipynb",
      "provenance": []
    }
  },
  "cells": [
    {
      "cell_type": "code",
      "metadata": {
        "colab": {
          "base_uri": "https://localhost:8080/"
        },
        "id": "hD7wB1qPVuXb",
        "outputId": "03f2a47b-670a-42bf-cf43-8e0375ea29cb"
      },
      "source": [
        "!sudo apt-get install -y fonts-nanum\n",
        "!sudo fc-cache -fv\n",
        "!rm ~/.cache/matplotlib -rf\n"
      ],
      "execution_count": 4,
      "outputs": [
        {
          "output_type": "stream",
          "text": [
            "Reading package lists... Done\n",
            "Building dependency tree       \n",
            "Reading state information... Done\n",
            "fonts-nanum is already the newest version (20170925-1).\n",
            "0 upgraded, 0 newly installed, 0 to remove and 39 not upgraded.\n",
            "/usr/share/fonts: caching, new cache contents: 0 fonts, 1 dirs\n",
            "/usr/share/fonts/truetype: caching, new cache contents: 0 fonts, 3 dirs\n",
            "/usr/share/fonts/truetype/humor-sans: caching, new cache contents: 1 fonts, 0 dirs\n",
            "/usr/share/fonts/truetype/liberation: caching, new cache contents: 16 fonts, 0 dirs\n",
            "/usr/share/fonts/truetype/nanum: caching, new cache contents: 10 fonts, 0 dirs\n",
            "/usr/local/share/fonts: caching, new cache contents: 0 fonts, 0 dirs\n",
            "/root/.local/share/fonts: skipping, no such directory\n",
            "/root/.fonts: skipping, no such directory\n",
            "/var/cache/fontconfig: cleaning cache directory\n",
            "/root/.cache/fontconfig: not cleaning non-existent cache directory\n",
            "/root/.fontconfig: not cleaning non-existent cache directory\n",
            "fc-cache: succeeded\n"
          ],
          "name": "stdout"
        }
      ]
    },
    {
      "cell_type": "markdown",
      "metadata": {
        "id": "Js7CHgqqyC8y"
      },
      "source": [
        "### **1. 판매데이터 분석**"
      ]
    },
    {
      "cell_type": "markdown",
      "metadata": {
        "id": "trssbla5yC82"
      },
      "source": [
        "**1) commerce_data.csv 파일을 읽어와 데이터의 형태를 확인합니다.**  \n",
        "자료의 구조를 확인합니다.  \n",
        "제품 카테고리의 종류를 알아봅니다."
      ]
    },
    {
      "cell_type": "code",
      "metadata": {
        "colab": {
          "base_uri": "https://localhost:8080/",
          "height": 419
        },
        "id": "U1Pv9tO4yC82",
        "outputId": "439d174b-f352-4f0b-8d6a-aa187d101a90"
      },
      "source": [
        "import pandas as pd\n",
        "df1=pd.read_csv(\"commerce_data_utf_sep.csv\")\n",
        "df1"
      ],
      "execution_count": 5,
      "outputs": [
        {
          "output_type": "execute_result",
          "data": {
            "text/html": [
              "<div>\n",
              "<style scoped>\n",
              "    .dataframe tbody tr th:only-of-type {\n",
              "        vertical-align: middle;\n",
              "    }\n",
              "\n",
              "    .dataframe tbody tr th {\n",
              "        vertical-align: top;\n",
              "    }\n",
              "\n",
              "    .dataframe thead th {\n",
              "        text-align: right;\n",
              "    }\n",
              "</style>\n",
              "<table border=\"1\" class=\"dataframe\">\n",
              "  <thead>\n",
              "    <tr style=\"text-align: right;\">\n",
              "      <th></th>\n",
              "      <th>collect_day</th>\n",
              "      <th>good_id</th>\n",
              "      <th>pum_id</th>\n",
              "      <th>pum_name</th>\n",
              "      <th>good_name</th>\n",
              "      <th>sales_price</th>\n",
              "      <th>city</th>\n",
              "      <th>store</th>\n",
              "    </tr>\n",
              "  </thead>\n",
              "  <tbody>\n",
              "    <tr>\n",
              "      <th>0</th>\n",
              "      <td>2019-03-01</td>\n",
              "      <td>1000456210</td>\n",
              "      <td>I053020</td>\n",
              "      <td>스케치북</td>\n",
              "      <td>묶음상품 )스케치북 4절(220g 17매)x9개 드로북 드로잉북 그림스케치북 스케치...</td>\n",
              "      <td>68700</td>\n",
              "      <td>울산</td>\n",
              "      <td>매장</td>\n",
              "    </tr>\n",
              "    <tr>\n",
              "      <th>1</th>\n",
              "      <td>2019-03-01</td>\n",
              "      <td>1000461046</td>\n",
              "      <td>L012010</td>\n",
              "      <td>면도기</td>\n",
              "      <td>[쉬크] 쉬크 하이드로 5 면도기 가정용면도기 남자용면도기 가정용남자면도기 면도기 ...</td>\n",
              "      <td>21850</td>\n",
              "      <td>부산</td>\n",
              "      <td>매장</td>\n",
              "    </tr>\n",
              "    <tr>\n",
              "      <th>2</th>\n",
              "      <td>2019-03-01</td>\n",
              "      <td>1000469476</td>\n",
              "      <td>C021030</td>\n",
              "      <td>운동화</td>\n",
              "      <td>(옵션 : 265) 아디다스 울트라부스트 런닝화(BB6168) 커플운동화 여성운동화...</td>\n",
              "      <td>219190</td>\n",
              "      <td>부산</td>\n",
              "      <td>온라인</td>\n",
              "    </tr>\n",
              "    <tr>\n",
              "      <th>3</th>\n",
              "      <td>2019-03-01</td>\n",
              "      <td>1000469524</td>\n",
              "      <td>C013010</td>\n",
              "      <td>점퍼</td>\n",
              "      <td>롱야상 웰론 롱패딩 AM 롱패딩 롱야상 후드패딩 패딩점퍼 롱 패딩</td>\n",
              "      <td>137620</td>\n",
              "      <td>경기</td>\n",
              "      <td>매장</td>\n",
              "    </tr>\n",
              "    <tr>\n",
              "      <th>4</th>\n",
              "      <td>2019-03-01</td>\n",
              "      <td>1000472413</td>\n",
              "      <td>C013010</td>\n",
              "      <td>점퍼</td>\n",
              "      <td>롱야상 롱후드 MA1 BW 롱패딩 롱야상 후드패딩 패딩점퍼 롱 패딩</td>\n",
              "      <td>112980</td>\n",
              "      <td>강원</td>\n",
              "      <td>매장</td>\n",
              "    </tr>\n",
              "    <tr>\n",
              "      <th>...</th>\n",
              "      <td>...</td>\n",
              "      <td>...</td>\n",
              "      <td>...</td>\n",
              "      <td>...</td>\n",
              "      <td>...</td>\n",
              "      <td>...</td>\n",
              "      <td>...</td>\n",
              "      <td>...</td>\n",
              "    </tr>\n",
              "    <tr>\n",
              "      <th>140544</th>\n",
              "      <td>2019-03-01</td>\n",
              "      <td>4685829</td>\n",
              "      <td>C014020</td>\n",
              "      <td>유아복</td>\n",
              "      <td>[NFL 키즈] NFL부분절개팬츠</td>\n",
              "      <td>59000</td>\n",
              "      <td>강원</td>\n",
              "      <td>온라인</td>\n",
              "    </tr>\n",
              "    <tr>\n",
              "      <th>140545</th>\n",
              "      <td>2019-03-01</td>\n",
              "      <td>468610568</td>\n",
              "      <td>C011010</td>\n",
              "      <td>남자외의</td>\n",
              "      <td>[JEEP(지프)][JEEP]19S/S 뽀글이 패딩 베스트 JK1JPU644(하남점)</td>\n",
              "      <td>189000</td>\n",
              "      <td>경기</td>\n",
              "      <td>매장</td>\n",
              "    </tr>\n",
              "    <tr>\n",
              "      <th>140546</th>\n",
              "      <td>2019-03-01</td>\n",
              "      <td>468613603</td>\n",
              "      <td>C011050</td>\n",
              "      <td>남자내의</td>\n",
              "      <td>(사이즈 : 105) 면스판 메쉬 남자 드로즈 팬티 025 3종세트 속옷팬티 남성사...</td>\n",
              "      <td>22550</td>\n",
              "      <td>부산</td>\n",
              "      <td>매장</td>\n",
              "    </tr>\n",
              "    <tr>\n",
              "      <th>140547</th>\n",
              "      <td>2019-03-01</td>\n",
              "      <td>468633361</td>\n",
              "      <td>A011100</td>\n",
              "      <td>라면</td>\n",
              "      <td>인도푸드 인도미 미고랭라면(10개) 봉지라면 즉석라면 인도푸드 라면 즉석식품</td>\n",
              "      <td>15640</td>\n",
              "      <td>서울</td>\n",
              "      <td>매장</td>\n",
              "    </tr>\n",
              "    <tr>\n",
              "      <th>140548</th>\n",
              "      <td>2019-03-01</td>\n",
              "      <td>468656057</td>\n",
              "      <td>E061030</td>\n",
              "      <td>전구</td>\n",
              "      <td>두영 형광등 전자식 안정기 FPL 36W 55W 32W 2등 1등 20w 40w M...</td>\n",
              "      <td>1950</td>\n",
              "      <td>부산</td>\n",
              "      <td>매장</td>\n",
              "    </tr>\n",
              "  </tbody>\n",
              "</table>\n",
              "<p>140549 rows × 8 columns</p>\n",
              "</div>"
            ],
            "text/plain": [
              "       collect_day     good_id   pum_id  ... sales_price city  store\n",
              "0       2019-03-01  1000456210  I053020  ...       68700   울산     매장\n",
              "1       2019-03-01  1000461046  L012010  ...       21850   부산     매장\n",
              "2       2019-03-01  1000469476  C021030  ...      219190   부산    온라인\n",
              "3       2019-03-01  1000469524  C013010  ...      137620   경기     매장\n",
              "4       2019-03-01  1000472413  C013010  ...      112980   강원     매장\n",
              "...            ...         ...      ...  ...         ...  ...    ...\n",
              "140544  2019-03-01     4685829  C014020  ...       59000   강원    온라인\n",
              "140545  2019-03-01   468610568  C011010  ...      189000   경기     매장\n",
              "140546  2019-03-01   468613603  C011050  ...       22550   부산     매장\n",
              "140547  2019-03-01   468633361  A011100  ...       15640   서울     매장\n",
              "140548  2019-03-01   468656057  E061030  ...        1950   부산     매장\n",
              "\n",
              "[140549 rows x 8 columns]"
            ]
          },
          "metadata": {
            "tags": []
          },
          "execution_count": 5
        }
      ]
    },
    {
      "cell_type": "code",
      "metadata": {
        "colab": {
          "base_uri": "https://localhost:8080/"
        },
        "id": "U_C03btlyC84",
        "outputId": "1cb16b81-a47a-4cf5-a37e-fc1162fc7196"
      },
      "source": [
        "import numpy as np\n",
        "np.unique(df1[\"pum_name\"])"
      ],
      "execution_count": 6,
      "outputs": [
        {
          "output_type": "execute_result",
          "data": {
            "text/plain": [
              "array(['가정용비닐용품', '간장', '고구마', '고등어', '고추장', '고춧가루', '공책', '과일가공품',\n",
              "       '구강세정제', '구두', '국수', '기능성음료', '기초화장품', '김', '김치', '껌', '낙지',\n",
              "       '남자내의', '남자상의', '남자외의', '남자하의', '냉동식품', '단무지', '당면', '된장', '드레싱',\n",
              "       '등산복', '딸기', '땅콩', '라면', '마른멸치', '면도기', '미역', '밀가루', '바디워시', '밤',\n",
              "       '방향제', '배', '복사용지', '부엌용세제', '북어채', '분유', '블루베리', '비스킷', '빵', '사과',\n",
              "       '살충제', '색조화장품', '생강', '생선통조림', '생수', '샴푸', '설탕', '섬유유연제', '세탁세제',\n",
              "       '소금', '소시지', '수박', '스낵과자', '스웨터', '스케치북', '습기제거제', '식용유', '식초',\n",
              "       '실내화', '쌀', '아동복', '아동화', '아몬드', '아이스크림', '여자내의', '여자상의', '여자외의',\n",
              "       '여자하의', '운동복', '운동화', '원피스', '유아복', '이유식', '잼', '전구', '전기레인지',\n",
              "       '전복', '점퍼', '즉석식품', '지갑', '참기름', '참외', '찹쌀', '청바지', '청소용세제', '치약',\n",
              "       '치즈', '칫솔', '카레', '커피', '컴퓨터소모품', '콩', '키위', '키친타월', '탄산음료', '토마토',\n",
              "       '티셔츠', '파스타면', '파프리카', '풋고추', '프린터', '필기구', '헤어드라이어', '헬스기구', '현미',\n",
              "       '혼합음료', '혼합조미료', '화장지', '회화용구'], dtype=object)"
            ]
          },
          "metadata": {
            "tags": []
          },
          "execution_count": 6
        }
      ]
    },
    {
      "cell_type": "markdown",
      "metadata": {
        "id": "FAHINJg0yC85"
      },
      "source": [
        "**2) 제품군별 최저판매가, 최고판매가, 평균, 표준편차를  구해봅니다.**"
      ]
    },
    {
      "cell_type": "code",
      "metadata": {
        "colab": {
          "base_uri": "https://localhost:8080/"
        },
        "id": "3mPzDBsDyC85",
        "outputId": "92b90f01-308d-486b-f355-ec1faed0c266"
      },
      "source": [
        "df1.sales_price\n",
        "df1['sales_price']"
      ],
      "execution_count": 7,
      "outputs": [
        {
          "output_type": "execute_result",
          "data": {
            "text/plain": [
              "0          68700\n",
              "1          21850\n",
              "2         219190\n",
              "3         137620\n",
              "4         112980\n",
              "           ...  \n",
              "140544     59000\n",
              "140545    189000\n",
              "140546     22550\n",
              "140547     15640\n",
              "140548      1950\n",
              "Name: sales_price, Length: 140549, dtype: int64"
            ]
          },
          "metadata": {
            "tags": []
          },
          "execution_count": 7
        }
      ]
    },
    {
      "cell_type": "code",
      "metadata": {
        "colab": {
          "base_uri": "https://localhost:8080/",
          "height": 612
        },
        "id": "FlihYgV0yC87",
        "outputId": "f1959d8b-5cad-42de-d34f-12f5bbf86f5a"
      },
      "source": [
        "import numpy as np\n",
        "df1['sales_price'] = df1['sales_price'].astype(int)\n",
        "print(df1.dtypes)\n",
        "df1.groupby('pum_name')['sales_price'].agg(['min','max','mean','std'])"
      ],
      "execution_count": 8,
      "outputs": [
        {
          "output_type": "stream",
          "text": [
            "collect_day    object\n",
            "good_id         int64\n",
            "pum_id         object\n",
            "pum_name       object\n",
            "good_name      object\n",
            "sales_price     int64\n",
            "city           object\n",
            "store          object\n",
            "dtype: object\n"
          ],
          "name": "stdout"
        },
        {
          "output_type": "execute_result",
          "data": {
            "text/html": [
              "<div>\n",
              "<style scoped>\n",
              "    .dataframe tbody tr th:only-of-type {\n",
              "        vertical-align: middle;\n",
              "    }\n",
              "\n",
              "    .dataframe tbody tr th {\n",
              "        vertical-align: top;\n",
              "    }\n",
              "\n",
              "    .dataframe thead th {\n",
              "        text-align: right;\n",
              "    }\n",
              "</style>\n",
              "<table border=\"1\" class=\"dataframe\">\n",
              "  <thead>\n",
              "    <tr style=\"text-align: right;\">\n",
              "      <th></th>\n",
              "      <th>min</th>\n",
              "      <th>max</th>\n",
              "      <th>mean</th>\n",
              "      <th>std</th>\n",
              "    </tr>\n",
              "    <tr>\n",
              "      <th>pum_name</th>\n",
              "      <th></th>\n",
              "      <th></th>\n",
              "      <th></th>\n",
              "      <th></th>\n",
              "    </tr>\n",
              "  </thead>\n",
              "  <tbody>\n",
              "    <tr>\n",
              "      <th>가정용비닐용품</th>\n",
              "      <td>4490</td>\n",
              "      <td>6790</td>\n",
              "      <td>5640.000000</td>\n",
              "      <td>1626.345597</td>\n",
              "    </tr>\n",
              "    <tr>\n",
              "      <th>간장</th>\n",
              "      <td>1420</td>\n",
              "      <td>384000</td>\n",
              "      <td>49097.931526</td>\n",
              "      <td>48703.252600</td>\n",
              "    </tr>\n",
              "    <tr>\n",
              "      <th>고구마</th>\n",
              "      <td>1100</td>\n",
              "      <td>76900</td>\n",
              "      <td>25494.117647</td>\n",
              "      <td>13615.345042</td>\n",
              "    </tr>\n",
              "    <tr>\n",
              "      <th>고등어</th>\n",
              "      <td>950</td>\n",
              "      <td>808020</td>\n",
              "      <td>44563.573265</td>\n",
              "      <td>39055.563713</td>\n",
              "    </tr>\n",
              "    <tr>\n",
              "      <th>고추장</th>\n",
              "      <td>1000</td>\n",
              "      <td>206700</td>\n",
              "      <td>51438.817006</td>\n",
              "      <td>34666.216211</td>\n",
              "    </tr>\n",
              "    <tr>\n",
              "      <th>...</th>\n",
              "      <td>...</td>\n",
              "      <td>...</td>\n",
              "      <td>...</td>\n",
              "      <td>...</td>\n",
              "    </tr>\n",
              "    <tr>\n",
              "      <th>현미</th>\n",
              "      <td>3000</td>\n",
              "      <td>115000</td>\n",
              "      <td>27282.419355</td>\n",
              "      <td>30969.144384</td>\n",
              "    </tr>\n",
              "    <tr>\n",
              "      <th>혼합음료</th>\n",
              "      <td>590</td>\n",
              "      <td>189000</td>\n",
              "      <td>34347.066667</td>\n",
              "      <td>22439.443511</td>\n",
              "    </tr>\n",
              "    <tr>\n",
              "      <th>혼합조미료</th>\n",
              "      <td>930</td>\n",
              "      <td>384000</td>\n",
              "      <td>19288.571429</td>\n",
              "      <td>52339.183112</td>\n",
              "    </tr>\n",
              "    <tr>\n",
              "      <th>화장지</th>\n",
              "      <td>3300</td>\n",
              "      <td>135000</td>\n",
              "      <td>30973.277311</td>\n",
              "      <td>22190.975495</td>\n",
              "    </tr>\n",
              "    <tr>\n",
              "      <th>회화용구</th>\n",
              "      <td>500</td>\n",
              "      <td>240000</td>\n",
              "      <td>16745.555556</td>\n",
              "      <td>32064.612852</td>\n",
              "    </tr>\n",
              "  </tbody>\n",
              "</table>\n",
              "<p>115 rows × 4 columns</p>\n",
              "</div>"
            ],
            "text/plain": [
              "           min     max          mean           std\n",
              "pum_name                                          \n",
              "가정용비닐용품   4490    6790   5640.000000   1626.345597\n",
              "간장        1420  384000  49097.931526  48703.252600\n",
              "고구마       1100   76900  25494.117647  13615.345042\n",
              "고등어        950  808020  44563.573265  39055.563713\n",
              "고추장       1000  206700  51438.817006  34666.216211\n",
              "...        ...     ...           ...           ...\n",
              "현미        3000  115000  27282.419355  30969.144384\n",
              "혼합음료       590  189000  34347.066667  22439.443511\n",
              "혼합조미료      930  384000  19288.571429  52339.183112\n",
              "화장지       3300  135000  30973.277311  22190.975495\n",
              "회화용구       500  240000  16745.555556  32064.612852\n",
              "\n",
              "[115 rows x 4 columns]"
            ]
          },
          "metadata": {
            "tags": []
          },
          "execution_count": 8
        }
      ]
    },
    {
      "cell_type": "code",
      "metadata": {
        "id": "LlxvG_SAyC88"
      },
      "source": [
        "group_min=df1['sales_price'].groupby(df1['pum_name']).min()\n",
        "group_max=df1['sales_price'].groupby(df1['pum_name']).max()\n",
        "group_mean=df1['sales_price'].groupby(df1['pum_name']).mean()\n",
        "group_std=df1['sales_price'].groupby(df1['pum_name']).std()"
      ],
      "execution_count": 9,
      "outputs": []
    },
    {
      "cell_type": "markdown",
      "metadata": {
        "id": "LowqVf4iyC88"
      },
      "source": [
        "code에 group_min, group_max, group_mean, group_std를 각각 입력하여서도 제품군별 최저판매가, 최고판매가, 평균, 표준편차를  구할 수 있습니다."
      ]
    },
    {
      "cell_type": "markdown",
      "metadata": {
        "id": "DTGjw2BayC89"
      },
      "source": [
        "**3) 패션 관련 제품군만으로 새로운 데이터프레임을 만든 후, 온라인에서 가장 잘 팔린 제품 10개를 찾아봅니다.**  \n",
        "제품군을 추리는 것은 개인의 판단에 따르면 됩니다.  \n",
        "데이터프레임이 제대로 만들어졌는지 확인합니다."
      ]
    },
    {
      "cell_type": "code",
      "metadata": {
        "colab": {
          "base_uri": "https://localhost:8080/",
          "height": 419
        },
        "id": "lOK-79M-yC89",
        "outputId": "512306be-5491-4e48-a338-56c63a275f48"
      },
      "source": [
        "temp1 = []\n",
        "for i in range(len(df1)):\n",
        "    if 'C' in df1['pum_id'].loc[i]:\n",
        "        src1 = df1['pum_id'].loc[i]\n",
        "        src2 = df1['pum_name'].loc[i]\n",
        "        src3 = df1['sales_price'].loc[i]\n",
        "        src4 = df1['city'].loc[i]\n",
        "        src5 = df1['store'].loc[i]\n",
        "        src6 = df1['good_name'].loc[i]\n",
        "        temp1.append([src1,src2,src3,src4,src5,src6])\n",
        "df2 = pd.DataFrame(temp1)\n",
        "df2.columns = ['pum_id','pum_name','sales_price','city','store','good_name']\n",
        "df2"
      ],
      "execution_count": 10,
      "outputs": [
        {
          "output_type": "execute_result",
          "data": {
            "text/html": [
              "<div>\n",
              "<style scoped>\n",
              "    .dataframe tbody tr th:only-of-type {\n",
              "        vertical-align: middle;\n",
              "    }\n",
              "\n",
              "    .dataframe tbody tr th {\n",
              "        vertical-align: top;\n",
              "    }\n",
              "\n",
              "    .dataframe thead th {\n",
              "        text-align: right;\n",
              "    }\n",
              "</style>\n",
              "<table border=\"1\" class=\"dataframe\">\n",
              "  <thead>\n",
              "    <tr style=\"text-align: right;\">\n",
              "      <th></th>\n",
              "      <th>pum_id</th>\n",
              "      <th>pum_name</th>\n",
              "      <th>sales_price</th>\n",
              "      <th>city</th>\n",
              "      <th>store</th>\n",
              "      <th>good_name</th>\n",
              "    </tr>\n",
              "  </thead>\n",
              "  <tbody>\n",
              "    <tr>\n",
              "      <th>0</th>\n",
              "      <td>C021030</td>\n",
              "      <td>운동화</td>\n",
              "      <td>219190</td>\n",
              "      <td>부산</td>\n",
              "      <td>온라인</td>\n",
              "      <td>(옵션 : 265) 아디다스 울트라부스트 런닝화(BB6168) 커플운동화 여성운동화...</td>\n",
              "    </tr>\n",
              "    <tr>\n",
              "      <th>1</th>\n",
              "      <td>C013010</td>\n",
              "      <td>점퍼</td>\n",
              "      <td>137620</td>\n",
              "      <td>경기</td>\n",
              "      <td>매장</td>\n",
              "      <td>롱야상 웰론 롱패딩 AM 롱패딩 롱야상 후드패딩 패딩점퍼 롱 패딩</td>\n",
              "    </tr>\n",
              "    <tr>\n",
              "      <th>2</th>\n",
              "      <td>C013010</td>\n",
              "      <td>점퍼</td>\n",
              "      <td>112980</td>\n",
              "      <td>강원</td>\n",
              "      <td>매장</td>\n",
              "      <td>롱야상 롱후드 MA1 BW 롱패딩 롱야상 후드패딩 패딩점퍼 롱 패딩</td>\n",
              "    </tr>\n",
              "    <tr>\n",
              "      <th>3</th>\n",
              "      <td>C011020</td>\n",
              "      <td>남자상의</td>\n",
              "      <td>34640</td>\n",
              "      <td>울산</td>\n",
              "      <td>온라인</td>\n",
              "      <td>(컬러선택 : MS-503 화이트 | 사이즈선택 : L) ACC(필골드)MS501n...</td>\n",
              "    </tr>\n",
              "    <tr>\n",
              "      <th>4</th>\n",
              "      <td>C013010</td>\n",
              "      <td>점퍼</td>\n",
              "      <td>66180</td>\n",
              "      <td>울산</td>\n",
              "      <td>온라인</td>\n",
              "      <td>빅사이즈 블루종 JK700 빅사이즈 블루종 야구점퍼 점퍼 겨울점퍼</td>\n",
              "    </tr>\n",
              "    <tr>\n",
              "      <th>...</th>\n",
              "      <td>...</td>\n",
              "      <td>...</td>\n",
              "      <td>...</td>\n",
              "      <td>...</td>\n",
              "      <td>...</td>\n",
              "      <td>...</td>\n",
              "    </tr>\n",
              "    <tr>\n",
              "      <th>90773</th>\n",
              "      <td>C011010</td>\n",
              "      <td>남자외의</td>\n",
              "      <td>125300</td>\n",
              "      <td>울산</td>\n",
              "      <td>온라인</td>\n",
              "      <td>[JEEP(지프)][JEEP]19S/S 뽀글이 베스트 GK1JPU646(마산점)</td>\n",
              "    </tr>\n",
              "    <tr>\n",
              "      <th>90774</th>\n",
              "      <td>C013010</td>\n",
              "      <td>점퍼</td>\n",
              "      <td>97650</td>\n",
              "      <td>부산</td>\n",
              "      <td>온라인</td>\n",
              "      <td>[시에로(siero)]라글란 소매 이중에리 점퍼(SC1JPF079)(센텀시티점)</td>\n",
              "    </tr>\n",
              "    <tr>\n",
              "      <th>90775</th>\n",
              "      <td>C014020</td>\n",
              "      <td>유아복</td>\n",
              "      <td>59000</td>\n",
              "      <td>강원</td>\n",
              "      <td>온라인</td>\n",
              "      <td>[NFL 키즈] NFL부분절개팬츠</td>\n",
              "    </tr>\n",
              "    <tr>\n",
              "      <th>90776</th>\n",
              "      <td>C011010</td>\n",
              "      <td>남자외의</td>\n",
              "      <td>189000</td>\n",
              "      <td>경기</td>\n",
              "      <td>매장</td>\n",
              "      <td>[JEEP(지프)][JEEP]19S/S 뽀글이 패딩 베스트 JK1JPU644(하남점)</td>\n",
              "    </tr>\n",
              "    <tr>\n",
              "      <th>90777</th>\n",
              "      <td>C011050</td>\n",
              "      <td>남자내의</td>\n",
              "      <td>22550</td>\n",
              "      <td>부산</td>\n",
              "      <td>매장</td>\n",
              "      <td>(사이즈 : 105) 면스판 메쉬 남자 드로즈 팬티 025 3종세트 속옷팬티 남성사...</td>\n",
              "    </tr>\n",
              "  </tbody>\n",
              "</table>\n",
              "<p>90778 rows × 6 columns</p>\n",
              "</div>"
            ],
            "text/plain": [
              "        pum_id  ...                                          good_name\n",
              "0      C021030  ...  (옵션 : 265) 아디다스 울트라부스트 런닝화(BB6168) 커플운동화 여성운동화...\n",
              "1      C013010  ...               롱야상 웰론 롱패딩 AM 롱패딩 롱야상 후드패딩 패딩점퍼 롱 패딩\n",
              "2      C013010  ...              롱야상 롱후드 MA1 BW 롱패딩 롱야상 후드패딩 패딩점퍼 롱 패딩\n",
              "3      C011020  ...  (컬러선택 : MS-503 화이트 | 사이즈선택 : L) ACC(필골드)MS501n...\n",
              "4      C013010  ...               빅사이즈 블루종 JK700 빅사이즈 블루종 야구점퍼 점퍼 겨울점퍼\n",
              "...        ...  ...                                                ...\n",
              "90773  C011010  ...       [JEEP(지프)][JEEP]19S/S 뽀글이 베스트 GK1JPU646(마산점)\n",
              "90774  C013010  ...       [시에로(siero)]라글란 소매 이중에리 점퍼(SC1JPF079)(센텀시티점)\n",
              "90775  C014020  ...                                 [NFL 키즈] NFL부분절개팬츠\n",
              "90776  C011010  ...    [JEEP(지프)][JEEP]19S/S 뽀글이 패딩 베스트 JK1JPU644(하남점)\n",
              "90777  C011050  ...  (사이즈 : 105) 면스판 메쉬 남자 드로즈 팬티 025 3종세트 속옷팬티 남성사...\n",
              "\n",
              "[90778 rows x 6 columns]"
            ]
          },
          "metadata": {
            "tags": []
          },
          "execution_count": 10
        }
      ]
    },
    {
      "cell_type": "code",
      "metadata": {
        "colab": {
          "base_uri": "https://localhost:8080/",
          "height": 419
        },
        "id": "Ub_8fMn6yC8-",
        "outputId": "85adfab7-55a2-42e9-c64c-e4a31d9929ae"
      },
      "source": [
        "df1[df1['pum_id'].str.contains('C')] # \n"
      ],
      "execution_count": 11,
      "outputs": [
        {
          "output_type": "execute_result",
          "data": {
            "text/html": [
              "<div>\n",
              "<style scoped>\n",
              "    .dataframe tbody tr th:only-of-type {\n",
              "        vertical-align: middle;\n",
              "    }\n",
              "\n",
              "    .dataframe tbody tr th {\n",
              "        vertical-align: top;\n",
              "    }\n",
              "\n",
              "    .dataframe thead th {\n",
              "        text-align: right;\n",
              "    }\n",
              "</style>\n",
              "<table border=\"1\" class=\"dataframe\">\n",
              "  <thead>\n",
              "    <tr style=\"text-align: right;\">\n",
              "      <th></th>\n",
              "      <th>collect_day</th>\n",
              "      <th>good_id</th>\n",
              "      <th>pum_id</th>\n",
              "      <th>pum_name</th>\n",
              "      <th>good_name</th>\n",
              "      <th>sales_price</th>\n",
              "      <th>city</th>\n",
              "      <th>store</th>\n",
              "    </tr>\n",
              "  </thead>\n",
              "  <tbody>\n",
              "    <tr>\n",
              "      <th>2</th>\n",
              "      <td>2019-03-01</td>\n",
              "      <td>1000469476</td>\n",
              "      <td>C021030</td>\n",
              "      <td>운동화</td>\n",
              "      <td>(옵션 : 265) 아디다스 울트라부스트 런닝화(BB6168) 커플운동화 여성운동화...</td>\n",
              "      <td>219190</td>\n",
              "      <td>부산</td>\n",
              "      <td>온라인</td>\n",
              "    </tr>\n",
              "    <tr>\n",
              "      <th>3</th>\n",
              "      <td>2019-03-01</td>\n",
              "      <td>1000469524</td>\n",
              "      <td>C013010</td>\n",
              "      <td>점퍼</td>\n",
              "      <td>롱야상 웰론 롱패딩 AM 롱패딩 롱야상 후드패딩 패딩점퍼 롱 패딩</td>\n",
              "      <td>137620</td>\n",
              "      <td>경기</td>\n",
              "      <td>매장</td>\n",
              "    </tr>\n",
              "    <tr>\n",
              "      <th>4</th>\n",
              "      <td>2019-03-01</td>\n",
              "      <td>1000472413</td>\n",
              "      <td>C013010</td>\n",
              "      <td>점퍼</td>\n",
              "      <td>롱야상 롱후드 MA1 BW 롱패딩 롱야상 후드패딩 패딩점퍼 롱 패딩</td>\n",
              "      <td>112980</td>\n",
              "      <td>강원</td>\n",
              "      <td>매장</td>\n",
              "    </tr>\n",
              "    <tr>\n",
              "      <th>5</th>\n",
              "      <td>2019-03-01</td>\n",
              "      <td>1000473420</td>\n",
              "      <td>C011020</td>\n",
              "      <td>남자상의</td>\n",
              "      <td>(컬러선택 : MS-503 화이트 | 사이즈선택 : L) ACC(필골드)MS501n...</td>\n",
              "      <td>34640</td>\n",
              "      <td>울산</td>\n",
              "      <td>온라인</td>\n",
              "    </tr>\n",
              "    <tr>\n",
              "      <th>6</th>\n",
              "      <td>2019-03-01</td>\n",
              "      <td>1000474171</td>\n",
              "      <td>C013010</td>\n",
              "      <td>점퍼</td>\n",
              "      <td>빅사이즈 블루종 JK700 빅사이즈 블루종 야구점퍼 점퍼 겨울점퍼</td>\n",
              "      <td>66180</td>\n",
              "      <td>울산</td>\n",
              "      <td>온라인</td>\n",
              "    </tr>\n",
              "    <tr>\n",
              "      <th>...</th>\n",
              "      <td>...</td>\n",
              "      <td>...</td>\n",
              "      <td>...</td>\n",
              "      <td>...</td>\n",
              "      <td>...</td>\n",
              "      <td>...</td>\n",
              "      <td>...</td>\n",
              "      <td>...</td>\n",
              "    </tr>\n",
              "    <tr>\n",
              "      <th>140542</th>\n",
              "      <td>2019-03-01</td>\n",
              "      <td>468552873</td>\n",
              "      <td>C011010</td>\n",
              "      <td>남자외의</td>\n",
              "      <td>[JEEP(지프)][JEEP]19S/S 뽀글이 베스트 GK1JPU646(마산점)</td>\n",
              "      <td>125300</td>\n",
              "      <td>울산</td>\n",
              "      <td>온라인</td>\n",
              "    </tr>\n",
              "    <tr>\n",
              "      <th>140543</th>\n",
              "      <td>2019-03-01</td>\n",
              "      <td>468581129</td>\n",
              "      <td>C013010</td>\n",
              "      <td>점퍼</td>\n",
              "      <td>[시에로(siero)]라글란 소매 이중에리 점퍼(SC1JPF079)(센텀시티점)</td>\n",
              "      <td>97650</td>\n",
              "      <td>부산</td>\n",
              "      <td>온라인</td>\n",
              "    </tr>\n",
              "    <tr>\n",
              "      <th>140544</th>\n",
              "      <td>2019-03-01</td>\n",
              "      <td>4685829</td>\n",
              "      <td>C014020</td>\n",
              "      <td>유아복</td>\n",
              "      <td>[NFL 키즈] NFL부분절개팬츠</td>\n",
              "      <td>59000</td>\n",
              "      <td>강원</td>\n",
              "      <td>온라인</td>\n",
              "    </tr>\n",
              "    <tr>\n",
              "      <th>140545</th>\n",
              "      <td>2019-03-01</td>\n",
              "      <td>468610568</td>\n",
              "      <td>C011010</td>\n",
              "      <td>남자외의</td>\n",
              "      <td>[JEEP(지프)][JEEP]19S/S 뽀글이 패딩 베스트 JK1JPU644(하남점)</td>\n",
              "      <td>189000</td>\n",
              "      <td>경기</td>\n",
              "      <td>매장</td>\n",
              "    </tr>\n",
              "    <tr>\n",
              "      <th>140546</th>\n",
              "      <td>2019-03-01</td>\n",
              "      <td>468613603</td>\n",
              "      <td>C011050</td>\n",
              "      <td>남자내의</td>\n",
              "      <td>(사이즈 : 105) 면스판 메쉬 남자 드로즈 팬티 025 3종세트 속옷팬티 남성사...</td>\n",
              "      <td>22550</td>\n",
              "      <td>부산</td>\n",
              "      <td>매장</td>\n",
              "    </tr>\n",
              "  </tbody>\n",
              "</table>\n",
              "<p>90778 rows × 8 columns</p>\n",
              "</div>"
            ],
            "text/plain": [
              "       collect_day     good_id   pum_id  ... sales_price city  store\n",
              "2       2019-03-01  1000469476  C021030  ...      219190   부산    온라인\n",
              "3       2019-03-01  1000469524  C013010  ...      137620   경기     매장\n",
              "4       2019-03-01  1000472413  C013010  ...      112980   강원     매장\n",
              "5       2019-03-01  1000473420  C011020  ...       34640   울산    온라인\n",
              "6       2019-03-01  1000474171  C013010  ...       66180   울산    온라인\n",
              "...            ...         ...      ...  ...         ...  ...    ...\n",
              "140542  2019-03-01   468552873  C011010  ...      125300   울산    온라인\n",
              "140543  2019-03-01   468581129  C013010  ...       97650   부산    온라인\n",
              "140544  2019-03-01     4685829  C014020  ...       59000   강원    온라인\n",
              "140545  2019-03-01   468610568  C011010  ...      189000   경기     매장\n",
              "140546  2019-03-01   468613603  C011050  ...       22550   부산     매장\n",
              "\n",
              "[90778 rows x 8 columns]"
            ]
          },
          "metadata": {
            "tags": []
          },
          "execution_count": 11
        }
      ]
    },
    {
      "cell_type": "markdown",
      "metadata": {
        "id": "u0kGl8ciyC8-"
      },
      "source": [
        "**4) 위 3의 데이터프레임에서 온라인에서 가장 잘 팔린 제품 10개를 찾아봅니다.**"
      ]
    },
    {
      "cell_type": "markdown",
      "metadata": {
        "id": "1B7ceGN_yC8-"
      },
      "source": [
        "- #NAME 으로 나오는 데이터들 지우기"
      ]
    },
    {
      "cell_type": "code",
      "metadata": {
        "colab": {
          "base_uri": "https://localhost:8080/"
        },
        "id": "bWgHKHCHyC8_",
        "outputId": "bdfef192-194a-4af4-f580-d3130c0d6f94"
      },
      "source": [
        "df22 = df2.copy()\n",
        "\n",
        "temp1 = df22.replace('#NAME?',np.NaN)\n",
        "print(len(temp1))\n",
        "temp2 = temp1.dropna()\n",
        "print(len(temp2))\n",
        "df_drop = temp2.copy()\n",
        "print(df_drop)\n"
      ],
      "execution_count": 12,
      "outputs": [
        {
          "output_type": "stream",
          "text": [
            "90778\n",
            "90718\n",
            "        pum_id  ...                                          good_name\n",
            "0      C021030  ...  (옵션 : 265) 아디다스 울트라부스트 런닝화(BB6168) 커플운동화 여성운동화...\n",
            "1      C013010  ...               롱야상 웰론 롱패딩 AM 롱패딩 롱야상 후드패딩 패딩점퍼 롱 패딩\n",
            "2      C013010  ...              롱야상 롱후드 MA1 BW 롱패딩 롱야상 후드패딩 패딩점퍼 롱 패딩\n",
            "3      C011020  ...  (컬러선택 : MS-503 화이트 | 사이즈선택 : L) ACC(필골드)MS501n...\n",
            "4      C013010  ...               빅사이즈 블루종 JK700 빅사이즈 블루종 야구점퍼 점퍼 겨울점퍼\n",
            "...        ...  ...                                                ...\n",
            "90773  C011010  ...       [JEEP(지프)][JEEP]19S/S 뽀글이 베스트 GK1JPU646(마산점)\n",
            "90774  C013010  ...       [시에로(siero)]라글란 소매 이중에리 점퍼(SC1JPF079)(센텀시티점)\n",
            "90775  C014020  ...                                 [NFL 키즈] NFL부분절개팬츠\n",
            "90776  C011010  ...    [JEEP(지프)][JEEP]19S/S 뽀글이 패딩 베스트 JK1JPU644(하남점)\n",
            "90777  C011050  ...  (사이즈 : 105) 면스판 메쉬 남자 드로즈 팬티 025 3종세트 속옷팬티 남성사...\n",
            "\n",
            "[90718 rows x 6 columns]\n"
          ],
          "name": "stdout"
        }
      ]
    },
    {
      "cell_type": "code",
      "metadata": {
        "colab": {
          "base_uri": "https://localhost:8080/",
          "height": 390
        },
        "id": "DkXyoE4byC8_",
        "outputId": "2b7ba7d3-01e4-4f88-ff2b-eb04c9802bf1"
      },
      "source": [
        "df3 = df_drop['store'] == '온라인' # boolen\n",
        "df4 = df_drop[df3] # True, False\n",
        "df4.groupby('good_name').agg('count').sort_values('pum_id', ascending=False).head(10)"
      ],
      "execution_count": 13,
      "outputs": [
        {
          "output_type": "execute_result",
          "data": {
            "text/html": [
              "<div>\n",
              "<style scoped>\n",
              "    .dataframe tbody tr th:only-of-type {\n",
              "        vertical-align: middle;\n",
              "    }\n",
              "\n",
              "    .dataframe tbody tr th {\n",
              "        vertical-align: top;\n",
              "    }\n",
              "\n",
              "    .dataframe thead th {\n",
              "        text-align: right;\n",
              "    }\n",
              "</style>\n",
              "<table border=\"1\" class=\"dataframe\">\n",
              "  <thead>\n",
              "    <tr style=\"text-align: right;\">\n",
              "      <th></th>\n",
              "      <th>pum_id</th>\n",
              "      <th>pum_name</th>\n",
              "      <th>sales_price</th>\n",
              "      <th>city</th>\n",
              "      <th>store</th>\n",
              "    </tr>\n",
              "    <tr>\n",
              "      <th>good_name</th>\n",
              "      <th></th>\n",
              "      <th></th>\n",
              "      <th></th>\n",
              "      <th></th>\n",
              "      <th></th>\n",
              "    </tr>\n",
              "  </thead>\n",
              "  <tbody>\n",
              "    <tr>\n",
              "      <th>[폴햄 (POLHAM)](남) 코튼 포플린 스트라이프 셔츠 (PHZ1WC1012)[갤러리아]</th>\n",
              "      <td>7</td>\n",
              "      <td>7</td>\n",
              "      <td>7</td>\n",
              "      <td>7</td>\n",
              "      <td>7</td>\n",
              "    </tr>\n",
              "    <tr>\n",
              "      <th>폼폼이포인트숏코트(N184XWC941)/ 나이스클랍</th>\n",
              "      <td>6</td>\n",
              "      <td>6</td>\n",
              "      <td>6</td>\n",
              "      <td>6</td>\n",
              "      <td>6</td>\n",
              "    </tr>\n",
              "    <tr>\n",
              "      <th>여성 융털 후드 롱 원피스</th>\n",
              "      <td>5</td>\n",
              "      <td>5</td>\n",
              "      <td>5</td>\n",
              "      <td>5</td>\n",
              "      <td>5</td>\n",
              "    </tr>\n",
              "    <tr>\n",
              "      <th>[에트로]에트로(ETRO)맨즈 남성셔츠[갤러리아]</th>\n",
              "      <td>5</td>\n",
              "      <td>5</td>\n",
              "      <td>5</td>\n",
              "      <td>5</td>\n",
              "      <td>5</td>\n",
              "    </tr>\n",
              "    <tr>\n",
              "      <th>[꼬레하우씨] (사이즈 : XL | 색상 : 검정) (남성무보플보온바지)매서운 한파에 특수 기능성 보온내의재입고시케이스변경</th>\n",
              "      <td>5</td>\n",
              "      <td>5</td>\n",
              "      <td>5</td>\n",
              "      <td>5</td>\n",
              "      <td>5</td>\n",
              "    </tr>\n",
              "    <tr>\n",
              "      <th>네스파 반팔티셔츠무지남자여성커플단체면티빅사이즈</th>\n",
              "      <td>5</td>\n",
              "      <td>5</td>\n",
              "      <td>5</td>\n",
              "      <td>5</td>\n",
              "      <td>5</td>\n",
              "    </tr>\n",
              "    <tr>\n",
              "      <th>[폴햄 (POLHAM)](공용)코튼 베이직 브이넥 반팔티셔츠 (PHZ2TR3820)[갤러리아]</th>\n",
              "      <td>5</td>\n",
              "      <td>5</td>\n",
              "      <td>5</td>\n",
              "      <td>5</td>\n",
              "      <td>5</td>\n",
              "    </tr>\n",
              "    <tr>\n",
              "      <th>베이직 포그니 퍼레깅스</th>\n",
              "      <td>5</td>\n",
              "      <td>5</td>\n",
              "      <td>5</td>\n",
              "      <td>5</td>\n",
              "      <td>5</td>\n",
              "    </tr>\n",
              "    <tr>\n",
              "      <th>남자셔츠 차이나카라 체크 배색 반팔셔츠 J0417024</th>\n",
              "      <td>5</td>\n",
              "      <td>5</td>\n",
              "      <td>5</td>\n",
              "      <td>5</td>\n",
              "      <td>5</td>\n",
              "    </tr>\n",
              "    <tr>\n",
              "      <th>[리안뉴욕]숏체크핸드메이드코트 RMKWHC010</th>\n",
              "      <td>4</td>\n",
              "      <td>4</td>\n",
              "      <td>4</td>\n",
              "      <td>4</td>\n",
              "      <td>4</td>\n",
              "    </tr>\n",
              "  </tbody>\n",
              "</table>\n",
              "</div>"
            ],
            "text/plain": [
              "                                                    pum_id  ...  store\n",
              "good_name                                                   ...       \n",
              "[폴햄 (POLHAM)](남) 코튼 포플린 스트라이프 셔츠 (PHZ1WC1012)[갤...       7  ...      7\n",
              "폼폼이포인트숏코트(N184XWC941)/ 나이스클랍                             6  ...      6\n",
              "여성 융털 후드 롱 원피스                                           5  ...      5\n",
              "[에트로]에트로(ETRO)맨즈 남성셔츠[갤러리아]                              5  ...      5\n",
              "[꼬레하우씨] (사이즈 : XL | 색상 : 검정) (남성무보플보온바지)매서운 한파에...       5  ...      5\n",
              "네스파 반팔티셔츠무지남자여성커플단체면티빅사이즈                                5  ...      5\n",
              "[폴햄 (POLHAM)](공용)코튼 베이직 브이넥 반팔티셔츠 (PHZ2TR3820)[...       5  ...      5\n",
              "베이직 포그니 퍼레깅스                                             5  ...      5\n",
              "남자셔츠 차이나카라 체크 배색 반팔셔츠 J0417024                           5  ...      5\n",
              "[리안뉴욕]숏체크핸드메이드코트 RMKWHC010                               4  ...      4\n",
              "\n",
              "[10 rows x 5 columns]"
            ]
          },
          "metadata": {
            "tags": []
          },
          "execution_count": 13
        }
      ]
    },
    {
      "cell_type": "markdown",
      "metadata": {
        "id": "SpJW7mSPyC9A"
      },
      "source": [
        "**4) 위 3의 데이터프레임에서 카테고리, 도시별 매출액 합계, 매출액 평균을 알아봅니다.**"
      ]
    },
    {
      "cell_type": "markdown",
      "metadata": {
        "id": "10yuMjEYyC9A"
      },
      "source": [
        "- 카테고리 : pum_name\n",
        "- 도시별 매출액합계 : df['sales_price'].groupby('city').agg('sum')"
      ]
    },
    {
      "cell_type": "code",
      "metadata": {
        "colab": {
          "base_uri": "https://localhost:8080/",
          "height": 419
        },
        "id": "tAiqRz50yC9A",
        "outputId": "1bc60a6d-c51f-4ce2-b04b-9f3c0ee91340"
      },
      "source": [
        "src1= df_drop['city'].unique()\n",
        "src2= df_drop['pum_name'].unique()\n",
        "mylist = []\n",
        "for i in range(len(src1)): # 도시\n",
        "    for j in range(len(src2)): # 카테고리\n",
        "        temp1 = df_drop.loc[df_drop['city']==src1[i]]\n",
        "        temp2 = temp1.loc[df_drop['pum_name']==src2[j]]\n",
        "        rst1 = temp2['sales_price'].sum()\n",
        "        rst2 = temp2['sales_price'].mean()\n",
        "        mylist.append([src1[i],src2[j],rst1,int(rst2)])\n",
        "df_new = pd.DataFrame(mylist, columns=['도시','카테고리','매출액 합계','매출액 평균'])\n",
        "df_new"
      ],
      "execution_count": 14,
      "outputs": [
        {
          "output_type": "execute_result",
          "data": {
            "text/html": [
              "<div>\n",
              "<style scoped>\n",
              "    .dataframe tbody tr th:only-of-type {\n",
              "        vertical-align: middle;\n",
              "    }\n",
              "\n",
              "    .dataframe tbody tr th {\n",
              "        vertical-align: top;\n",
              "    }\n",
              "\n",
              "    .dataframe thead th {\n",
              "        text-align: right;\n",
              "    }\n",
              "</style>\n",
              "<table border=\"1\" class=\"dataframe\">\n",
              "  <thead>\n",
              "    <tr style=\"text-align: right;\">\n",
              "      <th></th>\n",
              "      <th>도시</th>\n",
              "      <th>카테고리</th>\n",
              "      <th>매출액 합계</th>\n",
              "      <th>매출액 평균</th>\n",
              "    </tr>\n",
              "  </thead>\n",
              "  <tbody>\n",
              "    <tr>\n",
              "      <th>0</th>\n",
              "      <td>부산</td>\n",
              "      <td>운동화</td>\n",
              "      <td>31044010</td>\n",
              "      <td>68378</td>\n",
              "    </tr>\n",
              "    <tr>\n",
              "      <th>1</th>\n",
              "      <td>부산</td>\n",
              "      <td>점퍼</td>\n",
              "      <td>361027990</td>\n",
              "      <td>145987</td>\n",
              "    </tr>\n",
              "    <tr>\n",
              "      <th>2</th>\n",
              "      <td>부산</td>\n",
              "      <td>남자상의</td>\n",
              "      <td>72909610</td>\n",
              "      <td>53335</td>\n",
              "    </tr>\n",
              "    <tr>\n",
              "      <th>3</th>\n",
              "      <td>부산</td>\n",
              "      <td>아동복</td>\n",
              "      <td>100062760</td>\n",
              "      <td>51792</td>\n",
              "    </tr>\n",
              "    <tr>\n",
              "      <th>4</th>\n",
              "      <td>부산</td>\n",
              "      <td>남자하의</td>\n",
              "      <td>111931430</td>\n",
              "      <td>57341</td>\n",
              "    </tr>\n",
              "    <tr>\n",
              "      <th>...</th>\n",
              "      <td>...</td>\n",
              "      <td>...</td>\n",
              "      <td>...</td>\n",
              "      <td>...</td>\n",
              "    </tr>\n",
              "    <tr>\n",
              "      <th>121</th>\n",
              "      <td>서울</td>\n",
              "      <td>구두</td>\n",
              "      <td>23744050</td>\n",
              "      <td>166042</td>\n",
              "    </tr>\n",
              "    <tr>\n",
              "      <th>122</th>\n",
              "      <td>서울</td>\n",
              "      <td>아동화</td>\n",
              "      <td>11530400</td>\n",
              "      <td>65888</td>\n",
              "    </tr>\n",
              "    <tr>\n",
              "      <th>123</th>\n",
              "      <td>서울</td>\n",
              "      <td>여자내의</td>\n",
              "      <td>357790</td>\n",
              "      <td>16263</td>\n",
              "    </tr>\n",
              "    <tr>\n",
              "      <th>124</th>\n",
              "      <td>서울</td>\n",
              "      <td>여자상의</td>\n",
              "      <td>1210600</td>\n",
              "      <td>43235</td>\n",
              "    </tr>\n",
              "    <tr>\n",
              "      <th>125</th>\n",
              "      <td>서울</td>\n",
              "      <td>여자하의</td>\n",
              "      <td>178600</td>\n",
              "      <td>59533</td>\n",
              "    </tr>\n",
              "  </tbody>\n",
              "</table>\n",
              "<p>126 rows × 4 columns</p>\n",
              "</div>"
            ],
            "text/plain": [
              "     도시  카테고리     매출액 합계  매출액 평균\n",
              "0    부산   운동화   31044010   68378\n",
              "1    부산    점퍼  361027990  145987\n",
              "2    부산  남자상의   72909610   53335\n",
              "3    부산   아동복  100062760   51792\n",
              "4    부산  남자하의  111931430   57341\n",
              "..   ..   ...        ...     ...\n",
              "121  서울    구두   23744050  166042\n",
              "122  서울   아동화   11530400   65888\n",
              "123  서울  여자내의     357790   16263\n",
              "124  서울  여자상의    1210600   43235\n",
              "125  서울  여자하의     178600   59533\n",
              "\n",
              "[126 rows x 4 columns]"
            ]
          },
          "metadata": {
            "tags": []
          },
          "execution_count": 14
        }
      ]
    },
    {
      "cell_type": "code",
      "metadata": {
        "colab": {
          "base_uri": "https://localhost:8080/",
          "height": 481
        },
        "id": "oNNzJ52_yC9A",
        "outputId": "6de9f18c-0ef1-466e-e69b-be2773283edc"
      },
      "source": [
        "df_drop.groupby(['city','pum_name']).agg(['sum','mean'])"
      ],
      "execution_count": 15,
      "outputs": [
        {
          "output_type": "execute_result",
          "data": {
            "text/html": [
              "<div>\n",
              "<style scoped>\n",
              "    .dataframe tbody tr th:only-of-type {\n",
              "        vertical-align: middle;\n",
              "    }\n",
              "\n",
              "    .dataframe tbody tr th {\n",
              "        vertical-align: top;\n",
              "    }\n",
              "\n",
              "    .dataframe thead tr th {\n",
              "        text-align: left;\n",
              "    }\n",
              "\n",
              "    .dataframe thead tr:last-of-type th {\n",
              "        text-align: right;\n",
              "    }\n",
              "</style>\n",
              "<table border=\"1\" class=\"dataframe\">\n",
              "  <thead>\n",
              "    <tr>\n",
              "      <th></th>\n",
              "      <th></th>\n",
              "      <th colspan=\"2\" halign=\"left\">sales_price</th>\n",
              "    </tr>\n",
              "    <tr>\n",
              "      <th></th>\n",
              "      <th></th>\n",
              "      <th>sum</th>\n",
              "      <th>mean</th>\n",
              "    </tr>\n",
              "    <tr>\n",
              "      <th>city</th>\n",
              "      <th>pum_name</th>\n",
              "      <th></th>\n",
              "      <th></th>\n",
              "    </tr>\n",
              "  </thead>\n",
              "  <tbody>\n",
              "    <tr>\n",
              "      <th rowspan=\"5\" valign=\"top\">강원</th>\n",
              "      <th>구두</th>\n",
              "      <td>22534950</td>\n",
              "      <td>159822.340426</td>\n",
              "    </tr>\n",
              "    <tr>\n",
              "      <th>남자내의</th>\n",
              "      <td>5504440</td>\n",
              "      <td>28668.958333</td>\n",
              "    </tr>\n",
              "    <tr>\n",
              "      <th>남자상의</th>\n",
              "      <td>70095300</td>\n",
              "      <td>51960.934025</td>\n",
              "    </tr>\n",
              "    <tr>\n",
              "      <th>남자외의</th>\n",
              "      <td>16345910</td>\n",
              "      <td>65910.927419</td>\n",
              "    </tr>\n",
              "    <tr>\n",
              "      <th>남자하의</th>\n",
              "      <td>109829700</td>\n",
              "      <td>57054.389610</td>\n",
              "    </tr>\n",
              "    <tr>\n",
              "      <th>...</th>\n",
              "      <th>...</th>\n",
              "      <td>...</td>\n",
              "      <td>...</td>\n",
              "    </tr>\n",
              "    <tr>\n",
              "      <th rowspan=\"5\" valign=\"top\">울산</th>\n",
              "      <th>원피스</th>\n",
              "      <td>39417070</td>\n",
              "      <td>59904.361702</td>\n",
              "    </tr>\n",
              "    <tr>\n",
              "      <th>유아복</th>\n",
              "      <td>22297010</td>\n",
              "      <td>41754.700375</td>\n",
              "    </tr>\n",
              "    <tr>\n",
              "      <th>점퍼</th>\n",
              "      <td>362053230</td>\n",
              "      <td>145286.207865</td>\n",
              "    </tr>\n",
              "    <tr>\n",
              "      <th>청바지</th>\n",
              "      <td>21524900</td>\n",
              "      <td>43572.672065</td>\n",
              "    </tr>\n",
              "    <tr>\n",
              "      <th>티셔츠</th>\n",
              "      <td>78826980</td>\n",
              "      <td>40695.394941</td>\n",
              "    </tr>\n",
              "  </tbody>\n",
              "</table>\n",
              "<p>126 rows × 2 columns</p>\n",
              "</div>"
            ],
            "text/plain": [
              "              sales_price               \n",
              "                      sum           mean\n",
              "city pum_name                           \n",
              "강원   구두          22534950  159822.340426\n",
              "     남자내의         5504440   28668.958333\n",
              "     남자상의        70095300   51960.934025\n",
              "     남자외의        16345910   65910.927419\n",
              "     남자하의       109829700   57054.389610\n",
              "...                   ...            ...\n",
              "울산   원피스         39417070   59904.361702\n",
              "     유아복         22297010   41754.700375\n",
              "     점퍼         362053230  145286.207865\n",
              "     청바지         21524900   43572.672065\n",
              "     티셔츠         78826980   40695.394941\n",
              "\n",
              "[126 rows x 2 columns]"
            ]
          },
          "metadata": {
            "tags": []
          },
          "execution_count": 15
        }
      ]
    },
    {
      "cell_type": "markdown",
      "metadata": {
        "id": "KoJjnRH1yC9B"
      },
      "source": [
        "**5) 도시별 남자상의 매출액을 히스토그램으로 나타내 봅니다.**"
      ]
    },
    {
      "cell_type": "code",
      "metadata": {
        "colab": {
          "base_uri": "https://localhost:8080/",
          "height": 235
        },
        "id": "-_ou6YMEyC9B",
        "outputId": "8b720633-6848-4f4b-ec76-338b602f5b14"
      },
      "source": [
        "df_hist = df_new.loc[df_new['카테고리']=='남자상의']\n",
        "df_hist.columns = ['city','category','price_sum','price_mean']\n",
        "df_hist.dtypes\n",
        "df_hist"
      ],
      "execution_count": 20,
      "outputs": [
        {
          "output_type": "execute_result",
          "data": {
            "text/html": [
              "<div>\n",
              "<style scoped>\n",
              "    .dataframe tbody tr th:only-of-type {\n",
              "        vertical-align: middle;\n",
              "    }\n",
              "\n",
              "    .dataframe tbody tr th {\n",
              "        vertical-align: top;\n",
              "    }\n",
              "\n",
              "    .dataframe thead th {\n",
              "        text-align: right;\n",
              "    }\n",
              "</style>\n",
              "<table border=\"1\" class=\"dataframe\">\n",
              "  <thead>\n",
              "    <tr style=\"text-align: right;\">\n",
              "      <th></th>\n",
              "      <th>city</th>\n",
              "      <th>category</th>\n",
              "      <th>price_sum</th>\n",
              "      <th>price_mean</th>\n",
              "    </tr>\n",
              "  </thead>\n",
              "  <tbody>\n",
              "    <tr>\n",
              "      <th>2</th>\n",
              "      <td>부산</td>\n",
              "      <td>남자상의</td>\n",
              "      <td>72909610</td>\n",
              "      <td>53335</td>\n",
              "    </tr>\n",
              "    <tr>\n",
              "      <th>23</th>\n",
              "      <td>경기</td>\n",
              "      <td>남자상의</td>\n",
              "      <td>68977380</td>\n",
              "      <td>52216</td>\n",
              "    </tr>\n",
              "    <tr>\n",
              "      <th>44</th>\n",
              "      <td>강원</td>\n",
              "      <td>남자상의</td>\n",
              "      <td>70095300</td>\n",
              "      <td>51960</td>\n",
              "    </tr>\n",
              "    <tr>\n",
              "      <th>65</th>\n",
              "      <td>울산</td>\n",
              "      <td>남자상의</td>\n",
              "      <td>72652250</td>\n",
              "      <td>53460</td>\n",
              "    </tr>\n",
              "    <tr>\n",
              "      <th>86</th>\n",
              "      <td>대전</td>\n",
              "      <td>남자상의</td>\n",
              "      <td>68847050</td>\n",
              "      <td>51570</td>\n",
              "    </tr>\n",
              "    <tr>\n",
              "      <th>107</th>\n",
              "      <td>서울</td>\n",
              "      <td>남자상의</td>\n",
              "      <td>70169240</td>\n",
              "      <td>52798</td>\n",
              "    </tr>\n",
              "  </tbody>\n",
              "</table>\n",
              "</div>"
            ],
            "text/plain": [
              "    city category  price_sum  price_mean\n",
              "2     부산     남자상의   72909610       53335\n",
              "23    경기     남자상의   68977380       52216\n",
              "44    강원     남자상의   70095300       51960\n",
              "65    울산     남자상의   72652250       53460\n",
              "86    대전     남자상의   68847050       51570\n",
              "107   서울     남자상의   70169240       52798"
            ]
          },
          "metadata": {
            "tags": []
          },
          "execution_count": 20
        }
      ]
    },
    {
      "cell_type": "markdown",
      "metadata": {
        "id": "FsYzsjO_yC9B"
      },
      "source": [
        "- 한글화를 위한 구문"
      ]
    },
    {
      "cell_type": "code",
      "metadata": {
        "id": "K0RjFnpZyC9C"
      },
      "source": [
        "import matplotlib.pyplot as plt\n",
        "\n",
        "plt.rc('font', family='NanumBarunGothic') "
      ],
      "execution_count": 17,
      "outputs": []
    },
    {
      "cell_type": "markdown",
      "metadata": {
        "id": "3gKEhlQYyC9C"
      },
      "source": [
        "# 히스토그램 작성"
      ]
    },
    {
      "cell_type": "code",
      "metadata": {
        "colab": {
          "base_uri": "https://localhost:8080/",
          "height": 617
        },
        "id": "Jdm_a8NYyC9C",
        "outputId": "c73ff2ab-f0de-473d-ddc4-6de2cbd38b2e"
      },
      "source": [
        "import matplotlib.pyplot as plt\n",
        "import seaborn as sns\n",
        "\n",
        "sns.barplot(x=df_hist['city'], y=df_hist['price_sum'])\n",
        "plt.title('도시별 남자상의 매출액 합계', fontsize=24)\n",
        "plt.xlabel('도시', fontsize=20)\n",
        "plt.ylabel('남자상의 매출액 합계', fontsize=20)\n",
        "plt.show()\n",
        "\n",
        "sns.barplot(x=df_hist['city'], y=df_hist['price_mean'])\n",
        "plt.title('도시별 남자상의 매출액 평균', fontsize=24)\n",
        "plt.xlabel('도시', fontsize=20)\n",
        "plt.ylabel('남자상의 매출액 평균', fontsize=20)\n",
        "plt.show()"
      ],
      "execution_count": 18,
      "outputs": [
        {
          "output_type": "display_data",
          "data": {
            "image/png": "[encoded data removed]",
            "text/plain": [
              "<Figure size 432x288 with 1 Axes>"
            ]
          },
          "metadata": {
            "tags": [],
            "needs_background": "light"
          }
        },
        {
          "output_type": "display_data",
          "data": {
            "image/png": "[encoded data removed]",
            "text/plain": [
              "<Figure size 432x288 with 1 Axes>"
            ]
          },
          "metadata": {
            "tags": [],
            "needs_background": "light"
          }
        }
      ]
    },
    {
      "cell_type": "code",
      "metadata": {
        "id": "-_st_XX4_OrO"
      },
      "source": [
        ""
      ],
      "execution_count": null,
      "outputs": []
    }
  ]
}