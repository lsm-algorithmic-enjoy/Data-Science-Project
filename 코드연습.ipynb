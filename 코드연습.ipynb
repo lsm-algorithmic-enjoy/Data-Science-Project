{
  "nbformat": 4,
  "nbformat_minor": 0,
  "metadata": {
    "colab": {
      "name": "코드연습.ipynb",
      "provenance": [],
      "authorship_tag": "ABX9TyMpS4h6oPERT97tTQ21GbTs",
      "include_colab_link": true
    },
    "kernelspec": {
      "name": "python3",
      "display_name": "Python 3"
    },
    "language_info": {
      "name": "python"
    }
  },
  "cells": [
    {
      "cell_type": "markdown",
      "metadata": {
        "id": "view-in-github",
        "colab_type": "text"
      },
      "source": [
        "<a href=\"https://colab.research.google.com/github/seungmin-lee-dotcom/seungmin-lee-dotcom/blob/main/%EC%BD%94%EB%93%9C%EC%97%B0%EC%8A%B5.ipynb\" target=\"_parent\"><img src=\"https://colab.research.google.com/assets/colab-badge.svg\" alt=\"Open In Colab\"/></a>"
      ]
    },
    {
      "cell_type": "markdown",
      "metadata": {
        "id": "jb3gHOhJOOud"
      },
      "source": [
        "기초 코드 실습"
      ]
    },
    {
      "cell_type": "code",
      "metadata": {
        "id": "rqtAzwqVHzCj"
      },
      "source": [
        "word = 'deeplearning is fun'"
      ],
      "execution_count": 2,
      "outputs": []
    },
    {
      "cell_type": "code",
      "metadata": {
        "colab": {
          "base_uri": "https://localhost:8080/",
          "height": 35
        },
        "id": "AVul-f_XIJ7z",
        "outputId": "95564204-d66e-4273-c924-f47bac885536"
      },
      "source": [
        "word"
      ],
      "execution_count": 3,
      "outputs": [
        {
          "output_type": "execute_result",
          "data": {
            "application/vnd.google.colaboratory.intrinsic+json": {
              "type": "string"
            },
            "text/plain": [
              "'deeplearning is fun'"
            ]
          },
          "metadata": {
            "tags": []
          },
          "execution_count": 3
        }
      ]
    },
    {
      "cell_type": "code",
      "metadata": {
        "colab": {
          "base_uri": "https://localhost:8080/"
        },
        "id": "BMGhb_IpIKii",
        "outputId": "cb61aff7-65f6-41e2-e980-2811d64d4c72"
      },
      "source": [
        "type(word)"
      ],
      "execution_count": 4,
      "outputs": [
        {
          "output_type": "execute_result",
          "data": {
            "text/plain": [
              "str"
            ]
          },
          "metadata": {
            "tags": []
          },
          "execution_count": 4
        }
      ]
    },
    {
      "cell_type": "code",
      "metadata": {
        "id": "fe5tryxkINqK"
      },
      "source": [
        "number = '1'"
      ],
      "execution_count": 5,
      "outputs": []
    },
    {
      "cell_type": "code",
      "metadata": {
        "colab": {
          "base_uri": "https://localhost:8080/",
          "height": 35
        },
        "id": "TOFwfySzIVDB",
        "outputId": "aeecd78a-5df9-4abb-ffeb-f804dd610300"
      },
      "source": [
        "number"
      ],
      "execution_count": 6,
      "outputs": [
        {
          "output_type": "execute_result",
          "data": {
            "application/vnd.google.colaboratory.intrinsic+json": {
              "type": "string"
            },
            "text/plain": [
              "'1'"
            ]
          },
          "metadata": {
            "tags": []
          },
          "execution_count": 6
        }
      ]
    },
    {
      "cell_type": "code",
      "metadata": {
        "colab": {
          "base_uri": "https://localhost:8080/"
        },
        "id": "XHeli0eoIWnD",
        "outputId": "311b3663-5696-41e0-9f18-b9457c10d1c1"
      },
      "source": [
        "type(number)"
      ],
      "execution_count": 7,
      "outputs": [
        {
          "output_type": "execute_result",
          "data": {
            "text/plain": [
              "str"
            ]
          },
          "metadata": {
            "tags": []
          },
          "execution_count": 7
        }
      ]
    },
    {
      "cell_type": "markdown",
      "metadata": {
        "id": "emHigYkGIpmM"
      },
      "source": [
        "문자(str)"
      ]
    },
    {
      "cell_type": "code",
      "metadata": {
        "id": "GpjrJRNxJB3-"
      },
      "source": [
        "number = 1"
      ],
      "execution_count": 8,
      "outputs": []
    },
    {
      "cell_type": "code",
      "metadata": {
        "colab": {
          "base_uri": "https://localhost:8080/"
        },
        "id": "0qOKVmmLJHKh",
        "outputId": "d189b69b-af8e-4641-93d7-ddbe1d18adde"
      },
      "source": [
        "type(number)"
      ],
      "execution_count": 9,
      "outputs": [
        {
          "output_type": "execute_result",
          "data": {
            "text/plain": [
              "int"
            ]
          },
          "metadata": {
            "tags": []
          },
          "execution_count": 9
        }
      ]
    },
    {
      "cell_type": "markdown",
      "metadata": {
        "id": "muzeTUU6JKAU"
      },
      "source": [
        "정수형(int)"
      ]
    },
    {
      "cell_type": "code",
      "metadata": {
        "id": "DlrIliDLJOtI"
      },
      "source": [
        "number= 3.14"
      ],
      "execution_count": 10,
      "outputs": []
    },
    {
      "cell_type": "code",
      "metadata": {
        "colab": {
          "base_uri": "https://localhost:8080/"
        },
        "id": "2-2tBhV1JVbR",
        "outputId": "1bf6917e-3f3b-4aa3-aac1-baf975dbbda7"
      },
      "source": [
        "type(number)"
      ],
      "execution_count": 11,
      "outputs": [
        {
          "output_type": "execute_result",
          "data": {
            "text/plain": [
              "float"
            ]
          },
          "metadata": {
            "tags": []
          },
          "execution_count": 11
        }
      ]
    },
    {
      "cell_type": "code",
      "metadata": {
        "id": "jeaR__TgJYeg"
      },
      "source": [
        ""
      ],
      "execution_count": null,
      "outputs": []
    },
    {
      "cell_type": "markdown",
      "metadata": {
        "id": "d3TnzCtvJaSc"
      },
      "source": [
        "실수형(float)"
      ]
    },
    {
      "cell_type": "markdown",
      "metadata": {
        "id": "ipO-Ej2CJnxc"
      },
      "source": [
        "데이터 타입 변환"
      ]
    },
    {
      "cell_type": "code",
      "metadata": {
        "id": "qoNCnBtJJwIf"
      },
      "source": [
        "number= 5"
      ],
      "execution_count": 12,
      "outputs": []
    },
    {
      "cell_type": "code",
      "metadata": {
        "colab": {
          "base_uri": "https://localhost:8080/"
        },
        "id": "Lmlrcm7jKF96",
        "outputId": "0f78e0eb-4675-4189-ea04-eab977158c95"
      },
      "source": [
        "type(number)"
      ],
      "execution_count": 13,
      "outputs": [
        {
          "output_type": "execute_result",
          "data": {
            "text/plain": [
              "int"
            ]
          },
          "metadata": {
            "tags": []
          },
          "execution_count": 13
        }
      ]
    },
    {
      "cell_type": "code",
      "metadata": {
        "colab": {
          "base_uri": "https://localhost:8080/"
        },
        "id": "X_yedgULKIXe",
        "outputId": "ac209506-abe8-4df5-8ed9-935791de3629"
      },
      "source": [
        "type(number/1.0)"
      ],
      "execution_count": 14,
      "outputs": [
        {
          "output_type": "execute_result",
          "data": {
            "text/plain": [
              "float"
            ]
          },
          "metadata": {
            "tags": []
          },
          "execution_count": 14
        }
      ]
    },
    {
      "cell_type": "code",
      "metadata": {
        "colab": {
          "base_uri": "https://localhost:8080/"
        },
        "id": "g1ssSpnNKLku",
        "outputId": "5278731a-cedb-4230-d23f-4ac2fc28a884"
      },
      "source": [
        "number/1.0"
      ],
      "execution_count": 15,
      "outputs": [
        {
          "output_type": "execute_result",
          "data": {
            "text/plain": [
              "5.0"
            ]
          },
          "metadata": {
            "tags": []
          },
          "execution_count": 15
        }
      ]
    },
    {
      "cell_type": "code",
      "metadata": {
        "id": "ZA38kuHoKNaf"
      },
      "source": [
        "number=3.14"
      ],
      "execution_count": 17,
      "outputs": []
    },
    {
      "cell_type": "code",
      "metadata": {
        "colab": {
          "base_uri": "https://localhost:8080/"
        },
        "id": "EZ1LMV8KKPRG",
        "outputId": "08594373-de19-4598-8e7b-584728e1bdfa"
      },
      "source": [
        "int(number)"
      ],
      "execution_count": 18,
      "outputs": [
        {
          "output_type": "execute_result",
          "data": {
            "text/plain": [
              "3"
            ]
          },
          "metadata": {
            "tags": []
          },
          "execution_count": 18
        }
      ]
    },
    {
      "cell_type": "code",
      "metadata": {
        "id": "iMj-J5kXKUzv"
      },
      "source": [
        "number=1"
      ],
      "execution_count": 19,
      "outputs": []
    },
    {
      "cell_type": "code",
      "metadata": {
        "colab": {
          "base_uri": "https://localhost:8080/"
        },
        "id": "aOyCWoVnKYfe",
        "outputId": "74c7f37b-7331-4ec3-99ae-c95d51c77e7e"
      },
      "source": [
        "float(number)"
      ],
      "execution_count": 20,
      "outputs": [
        {
          "output_type": "execute_result",
          "data": {
            "text/plain": [
              "1.0"
            ]
          },
          "metadata": {
            "tags": []
          },
          "execution_count": 20
        }
      ]
    },
    {
      "cell_type": "code",
      "metadata": {
        "id": "Jx0gBaG5KbH_"
      },
      "source": [
        ""
      ],
      "execution_count": null,
      "outputs": []
    },
    {
      "cell_type": "markdown",
      "metadata": {
        "id": "UQif1QfsKjrf"
      },
      "source": [
        "list 와 슬라이싱"
      ]
    },
    {
      "cell_type": "markdown",
      "metadata": {
        "id": "81P5KLsiKsDL"
      },
      "source": [
        "1차원 리스트 생성"
      ]
    },
    {
      "cell_type": "code",
      "metadata": {
        "id": "M8WHhQAyKt5d"
      },
      "source": [
        "x  = [10,20,30,40,50,60,70,80,]"
      ],
      "execution_count": 21,
      "outputs": []
    },
    {
      "cell_type": "code",
      "metadata": {
        "colab": {
          "base_uri": "https://localhost:8080/"
        },
        "id": "WorVWwjfKy7N",
        "outputId": "d0b5a489-54f9-48d1-a947-a1ec7ff194ae"
      },
      "source": [
        "type(x)"
      ],
      "execution_count": 22,
      "outputs": [
        {
          "output_type": "execute_result",
          "data": {
            "text/plain": [
              "list"
            ]
          },
          "metadata": {
            "tags": []
          },
          "execution_count": 22
        }
      ]
    },
    {
      "cell_type": "markdown",
      "metadata": {
        "id": "YYHVujOwK4cF"
      },
      "source": [
        "2차원 리스트 생성"
      ]
    },
    {
      "cell_type": "code",
      "metadata": {
        "id": "TzxRNTIcK649"
      },
      "source": [
        "x_2d=[\n",
        "      [10,20,30,40,50,60,70,80,],\n",
        "      [11,21,31,41,51,61,71,81],\n",
        "]"
      ],
      "execution_count": 23,
      "outputs": []
    },
    {
      "cell_type": "code",
      "metadata": {
        "colab": {
          "base_uri": "https://localhost:8080/"
        },
        "id": "Xz6_Ej_cLQQN",
        "outputId": "34da55fe-363e-4ace-fc9d-2436b34be0f3"
      },
      "source": [
        "x_2d"
      ],
      "execution_count": 24,
      "outputs": [
        {
          "output_type": "execute_result",
          "data": {
            "text/plain": [
              "[[10, 20, 30, 40, 50, 60, 70, 80], [11, 21, 31, 41, 51, 61, 71, 81]]"
            ]
          },
          "metadata": {
            "tags": []
          },
          "execution_count": 24
        }
      ]
    },
    {
      "cell_type": "markdown",
      "metadata": {
        "id": "0Ep_OQLCLfBQ"
      },
      "source": [
        "NUMPY ARRAY"
      ]
    },
    {
      "cell_type": "code",
      "metadata": {
        "id": "1n8olJWqMCfz"
      },
      "source": [
        "x= [10,20,30,40,50,60,70,80,90]"
      ],
      "execution_count": 36,
      "outputs": []
    },
    {
      "cell_type": "code",
      "metadata": {
        "colab": {
          "base_uri": "https://localhost:8080/"
        },
        "id": "WnxmeNsVMIC7",
        "outputId": "a0849be8-f16a-40da-d628-43fca5b9165c"
      },
      "source": [
        "type(x)"
      ],
      "execution_count": 37,
      "outputs": [
        {
          "output_type": "execute_result",
          "data": {
            "text/plain": [
              "list"
            ]
          },
          "metadata": {
            "tags": []
          },
          "execution_count": 37
        }
      ]
    },
    {
      "cell_type": "code",
      "metadata": {
        "id": "Hhno8QaVMKWC"
      },
      "source": [
        "import numpy as np"
      ],
      "execution_count": 38,
      "outputs": []
    },
    {
      "cell_type": "code",
      "metadata": {
        "colab": {
          "base_uri": "https://localhost:8080/"
        },
        "id": "e5ZOsrM4MP-7",
        "outputId": "151674b8-ccc9-4da5-b4e3-a4d6b1b713a5"
      },
      "source": [
        "np.array(x)"
      ],
      "execution_count": 39,
      "outputs": [
        {
          "output_type": "execute_result",
          "data": {
            "text/plain": [
              "array([10, 20, 30, 40, 50, 60, 70, 80, 90])"
            ]
          },
          "metadata": {
            "tags": []
          },
          "execution_count": 39
        }
      ]
    },
    {
      "cell_type": "code",
      "metadata": {
        "colab": {
          "base_uri": "https://localhost:8080/"
        },
        "id": "slqLeUZTMTqz",
        "outputId": "e8ebcea4-52af-47ba-8d89-5432f6db2921"
      },
      "source": [
        "type(np.array(x))"
      ],
      "execution_count": 40,
      "outputs": [
        {
          "output_type": "execute_result",
          "data": {
            "text/plain": [
              "numpy.ndarray"
            ]
          },
          "metadata": {
            "tags": []
          },
          "execution_count": 40
        }
      ]
    },
    {
      "cell_type": "code",
      "metadata": {
        "id": "1wW4PAF7Mal6"
      },
      "source": [
        "x_arr = np.array(x)"
      ],
      "execution_count": 41,
      "outputs": []
    },
    {
      "cell_type": "code",
      "metadata": {
        "colab": {
          "base_uri": "https://localhost:8080/"
        },
        "id": "UFh5Fx1-MmqJ",
        "outputId": "d8374b43-7f4c-470a-a3d8-3af3f00cc14f"
      },
      "source": [
        "x_arr.shape"
      ],
      "execution_count": 42,
      "outputs": [
        {
          "output_type": "execute_result",
          "data": {
            "text/plain": [
              "(9,)"
            ]
          },
          "metadata": {
            "tags": []
          },
          "execution_count": 42
        }
      ]
    },
    {
      "cell_type": "code",
      "metadata": {
        "colab": {
          "base_uri": "https://localhost:8080/"
        },
        "id": "RpdlXwxGNAgK",
        "outputId": "de09d11a-32c7-4468-9c81-602e3caed7fc"
      },
      "source": [
        "x_2d"
      ],
      "execution_count": 43,
      "outputs": [
        {
          "output_type": "execute_result",
          "data": {
            "text/plain": [
              "[[10, 20, 30, 40, 50, 60, 70, 80], [11, 21, 31, 41, 51, 61, 71, 81]]"
            ]
          },
          "metadata": {
            "tags": []
          },
          "execution_count": 43
        }
      ]
    },
    {
      "cell_type": "code",
      "metadata": {
        "id": "TKDozgJxNWiB"
      },
      "source": [
        "x_2d_arr=np.array(x_2d)"
      ],
      "execution_count": 44,
      "outputs": []
    },
    {
      "cell_type": "code",
      "metadata": {
        "colab": {
          "base_uri": "https://localhost:8080/"
        },
        "id": "oWMKkPSANd6p",
        "outputId": "11ee31e3-33e8-4616-a7a3-e13409f0367c"
      },
      "source": [
        "x_2d_arr.shape"
      ],
      "execution_count": 45,
      "outputs": [
        {
          "output_type": "execute_result",
          "data": {
            "text/plain": [
              "(2, 8)"
            ]
          },
          "metadata": {
            "tags": []
          },
          "execution_count": 45
        }
      ]
    },
    {
      "cell_type": "markdown",
      "metadata": {
        "id": "mLE874eXOHUm"
      },
      "source": [
        "함수"
      ]
    },
    {
      "cell_type": "code",
      "metadata": {
        "id": "hcVhpRpwOIpa"
      },
      "source": [
        "def func(a,b):\n",
        "  return a+b\n"
      ],
      "execution_count": 46,
      "outputs": []
    },
    {
      "cell_type": "code",
      "metadata": {
        "colab": {
          "base_uri": "https://localhost:8080/"
        },
        "id": "IixAQurmOm4g",
        "outputId": "aaa7bf5b-d7ee-43e9-a247-b1ba3508a11d"
      },
      "source": [
        "func(1,3)"
      ],
      "execution_count": 47,
      "outputs": [
        {
          "output_type": "execute_result",
          "data": {
            "text/plain": [
              "4"
            ]
          },
          "metadata": {
            "tags": []
          },
          "execution_count": 47
        }
      ]
    },
    {
      "cell_type": "code",
      "metadata": {
        "id": "75bLqoptOqN1"
      },
      "source": [
        "def print_me(a,b):\n",
        "    print(a)\n",
        "    print(b)"
      ],
      "execution_count": 49,
      "outputs": []
    },
    {
      "cell_type": "code",
      "metadata": {
        "colab": {
          "base_uri": "https://localhost:8080/"
        },
        "id": "MMv6EvrSPT7X",
        "outputId": "d4cb61f9-b7bc-4bb0-e409-ab9f0459fc4b"
      },
      "source": [
        "a = print_me('hello','world')"
      ],
      "execution_count": 50,
      "outputs": [
        {
          "output_type": "stream",
          "text": [
            "hello\n",
            "world\n"
          ],
          "name": "stdout"
        }
      ]
    },
    {
      "cell_type": "code",
      "metadata": {
        "id": "F8KttUmvPcFU"
      },
      "source": [
        ""
      ],
      "execution_count": null,
      "outputs": []
    },
    {
      "cell_type": "markdown",
      "metadata": {
        "id": "Po48KhdZPl7p"
      },
      "source": [
        "반복문 (for in)"
      ]
    },
    {
      "cell_type": "code",
      "metadata": {
        "colab": {
          "base_uri": "https://localhost:8080/"
        },
        "id": "uqit-OTDPoMs",
        "outputId": "4a5a54bf-126a-4569-9002-6e43211c0e0e"
      },
      "source": [
        "for i in x:\n",
        "  print(i)"
      ],
      "execution_count": 51,
      "outputs": [
        {
          "output_type": "stream",
          "text": [
            "10\n",
            "20\n",
            "30\n",
            "40\n",
            "50\n",
            "60\n",
            "70\n",
            "80\n",
            "90\n"
          ],
          "name": "stdout"
        }
      ]
    },
    {
      "cell_type": "code",
      "metadata": {
        "colab": {
          "base_uri": "https://localhost:8080/"
        },
        "id": "fTmixRBzP-Qn",
        "outputId": "5028f2df-1ecf-44e2-a5a7-212121886414"
      },
      "source": [
        "for i in 'deep learning is fun':\n",
        "  print(i)"
      ],
      "execution_count": 52,
      "outputs": [
        {
          "output_type": "stream",
          "text": [
            "d\n",
            "e\n",
            "e\n",
            "p\n",
            " \n",
            "l\n",
            "e\n",
            "a\n",
            "r\n",
            "n\n",
            "i\n",
            "n\n",
            "g\n",
            " \n",
            "i\n",
            "s\n",
            " \n",
            "f\n",
            "u\n",
            "n\n"
          ],
          "name": "stdout"
        }
      ]
    },
    {
      "cell_type": "code",
      "metadata": {
        "id": "7sMlKCR9QJr8"
      },
      "source": [
        ""
      ],
      "execution_count": null,
      "outputs": []
    },
    {
      "cell_type": "code",
      "metadata": {
        "colab": {
          "base_uri": "https://localhost:8080/"
        },
        "id": "GrWPXIUaQPXD",
        "outputId": "4cb65d41-3db2-400a-ab80-4163ff1967b4"
      },
      "source": [
        "for i in [10,20,30,40,50]:\n",
        "   if i >= 30:\n",
        "      print(i)\n",
        "      break"
      ],
      "execution_count": 56,
      "outputs": [
        {
          "output_type": "stream",
          "text": [
            "30\n"
          ],
          "name": "stdout"
        }
      ]
    },
    {
      "cell_type": "code",
      "metadata": {
        "id": "p83wwOi7Q4es"
      },
      "source": [
        ""
      ],
      "execution_count": null,
      "outputs": []
    }
  ]
}