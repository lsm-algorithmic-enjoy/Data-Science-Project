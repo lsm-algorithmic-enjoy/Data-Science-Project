{
  "nbformat": 4,
  "nbformat_minor": 0,
  "metadata": {
    "colab": {
      "name": "numpy practice2.ipynb",
      "provenance": [],
      "authorship_tag": "ABX9TyMSUvS+uE9/woFdCzlcxc63",
      "include_colab_link": true
    },
    "kernelspec": {
      "name": "python3",
      "display_name": "Python 3"
    },
    "language_info": {
      "name": "python"
    }
  },
  "cells": [
    {
      "cell_type": "markdown",
      "metadata": {
        "id": "view-in-github",
        "colab_type": "text"
      },
      "source": [
        "<a href=\"https://colab.research.google.com/github/seungmin-lee-dotcom/seungmin-lee-dotcom/blob/main/numpy_practice2.ipynb\" target=\"_parent\"><img src=\"https://colab.research.google.com/assets/colab-badge.svg\" alt=\"Open In Colab\"/></a>"
      ]
    },
    {
      "cell_type": "markdown",
      "metadata": {
        "id": "X4yhZdxQp6jT"
      },
      "source": [
        "Python의 Numpy 라이브러리는 기본적인 상수 연산이 가능"
      ]
    },
    {
      "cell_type": "code",
      "metadata": {
        "colab": {
          "base_uri": "https://localhost:8080/"
        },
        "id": "wB9nd2gUp7CK",
        "outputId": "2e163464-be67-44fe-ab4e-1aad79848ba5"
      },
      "source": [
        "import numpy as np\n",
        "\n",
        "array = np.random.randint(1, 10, size=4).reshape(2, 2)\n",
        "result_array = array * 10\n",
        "print(result_array)"
      ],
      "execution_count": 1,
      "outputs": [
        {
          "output_type": "stream",
          "text": [
            "[[30 20]\n",
            " [40 20]]\n"
          ],
          "name": "stdout"
        }
      ]
    },
    {
      "cell_type": "markdown",
      "metadata": {
        "id": "H4PQhwTvsI5u"
      },
      "source": [
        "서로 다른 형태의 Numpy 연산이 가능"
      ]
    },
    {
      "cell_type": "code",
      "metadata": {
        "colab": {
          "base_uri": "https://localhost:8080/"
        },
        "id": "lB1kpesvsL6j",
        "outputId": "8bbc9157-fa50-4a0f-c3fd-5bbba37aa2f9"
      },
      "source": [
        "import numpy as np\n",
        "\n",
        "array1 = np.arange(4).reshape(2, 2)\n",
        "array2 = np.arange(2)\n",
        "array3 = array1 + array2\n",
        "\n",
        "print(array3)"
      ],
      "execution_count": 2,
      "outputs": [
        {
          "output_type": "stream",
          "text": [
            "[[0 2]\n",
            " [2 4]]\n"
          ],
          "name": "stdout"
        }
      ]
    },
    {
      "cell_type": "code",
      "metadata": {
        "colab": {
          "base_uri": "https://localhost:8080/"
        },
        "id": "ezllZFt5sfxi",
        "outputId": "d5187ffa-24b5-4612-9ddc-c5eaea2a9dc3"
      },
      "source": [
        "import numpy as np\n",
        "\n",
        "array1 = np.arange(0, 8).reshape(2, 4)\n",
        "array2 = np.arange(0, 8).reshape(2, 4)\n",
        "array3 = np.concatenate([array1, array2], axis=0)\n",
        "array4 = np.arange(0, 4).reshape(4, 1)\n",
        "\n",
        "print(array3 + array4)"
      ],
      "execution_count": 3,
      "outputs": [
        {
          "output_type": "stream",
          "text": [
            "[[ 0  1  2  3]\n",
            " [ 5  6  7  8]\n",
            " [ 2  3  4  5]\n",
            " [ 7  8  9 10]]\n"
          ],
          "name": "stdout"
        }
      ]
    },
    {
      "cell_type": "markdown",
      "metadata": {
        "id": "ddhrBYzNtXN-"
      },
      "source": [
        "마스킹 연산 (각각에 대하여 체크함)"
      ]
    },
    {
      "cell_type": "code",
      "metadata": {
        "id": "fMvpJNOAtXmp"
      },
      "source": [
        "import numpy as np\n",
        "\n",
        "array1 = np.arange(16).reshape(4, 4)\n",
        "print(array1)\n",
        "\n",
        "array2 = array1 < 10\n",
        "print(array2)\n",
        "\n",
        "array1[array2] = 100\n",
        "print(array1)"
      ],
      "execution_count": null,
      "outputs": []
    },
    {
      "cell_type": "markdown",
      "metadata": {
        "id": "2vWPTRojt-Bq"
      },
      "source": [
        "Numpy 집계 함수"
      ]
    },
    {
      "cell_type": "code",
      "metadata": {
        "colab": {
          "base_uri": "https://localhost:8080/"
        },
        "id": "EZVQWKyWuEkn",
        "outputId": "46f50709-e0c0-4195-ac9a-81293d27f6b2"
      },
      "source": [
        "import numpy as np\n",
        "\n",
        "array = np.arange(16).reshape(4, 4)\n",
        "\n",
        "print(\"최대값:\", np.max(array))\n",
        "print(\"최소값:\", np.min(array))\n",
        "print(\"합계:\", np.sum(array))\n",
        "print(\"평균값:\", np.mean(array))"
      ],
      "execution_count": 4,
      "outputs": [
        {
          "output_type": "stream",
          "text": [
            "최대값: 15\n",
            "최소값: 0\n",
            "합계: 120\n",
            "평균값: 7.5\n"
          ],
          "name": "stdout"
        }
      ]
    },
    {
      "cell_type": "code",
      "metadata": {
        "colab": {
          "base_uri": "https://localhost:8080/"
        },
        "id": "6HM8O99kuLTZ",
        "outputId": "7b7b16d7-b546-4635-bd4c-7623824b9ff1"
      },
      "source": [
        "import numpy as np\n",
        "\n",
        "array = np.arange(16).reshape(4, 4)\n",
        "\n",
        "print(array)\n",
        "print(\"합계:\", np.sum(array, axis=0))"
      ],
      "execution_count": 5,
      "outputs": [
        {
          "output_type": "stream",
          "text": [
            "[[ 0  1  2  3]\n",
            " [ 4  5  6  7]\n",
            " [ 8  9 10 11]\n",
            " [12 13 14 15]]\n",
            "합계: [24 28 32 36]\n"
          ],
          "name": "stdout"
        }
      ]
    },
    {
      "cell_type": "code",
      "metadata": {
        "id": "2UMiTwv6ulvu"
      },
      "source": [
        ""
      ],
      "execution_count": null,
      "outputs": []
    }
  ]
}