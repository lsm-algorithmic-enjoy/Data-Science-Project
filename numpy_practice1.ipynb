{
  "nbformat": 4,
  "nbformat_minor": 0,
  "metadata": {
    "colab": {
      "name": "numpy practice1.ipynb",
      "provenance": [],
      "authorship_tag": "ABX9TyPq3Gl2ENeMq9IZVfhc5ryZ",
      "include_colab_link": true
    },
    "kernelspec": {
      "name": "python3",
      "display_name": "Python 3"
    },
    "language_info": {
      "name": "python"
    },
    "accelerator": "GPU"
  },
  "cells": [
    {
      "cell_type": "markdown",
      "metadata": {
        "id": "view-in-github",
        "colab_type": "text"
      },
      "source": [
        "<a href=\"https://colab.research.google.com/github/seungmin-lee-dotcom/seungmin-lee-dotcom/blob/main/numpy_practice1.ipynb\" target=\"_parent\"><img src=\"https://colab.research.google.com/assets/colab-badge.svg\" alt=\"Open In Colab\"/></a>"
      ]
    },
    {
      "cell_type": "markdown",
      "metadata": {
        "id": "HOdSo99zhrbq"
      },
      "source": [
        "Python의 Numpy 라이브러리는 List와 상호 변환이 가능"
      ]
    },
    {
      "cell_type": "code",
      "metadata": {
        "colab": {
          "base_uri": "https://localhost:8080/"
        },
        "id": "xOva6xKxhtV-",
        "outputId": "9bf1b6d8-35cd-4ac5-abeb-2536188e37be"
      },
      "source": [
        "import numpy as np\n",
        "\n",
        "array = np.array([1, 2, 3])\n",
        "print(array.size) \n",
        "print(array.dtype) \n",
        "print(array[2]) "
      ],
      "execution_count": 1,
      "outputs": [
        {
          "output_type": "stream",
          "text": [
            "3\n",
            "int64\n",
            "3\n"
          ],
          "name": "stdout"
        }
      ]
    },
    {
      "cell_type": "markdown",
      "metadata": {
        "id": "fsz0ZMWujffR"
      },
      "source": [
        "Python의 Numpy 라이브러리는 다양한 형태의 배열을 초기화 할 수 있음"
      ]
    },
    {
      "cell_type": "code",
      "metadata": {
        "colab": {
          "base_uri": "https://localhost:8080/"
        },
        "id": "vFuX5hpPjgEU",
        "outputId": "f8081524-a9f5-406a-cf38-e17a203015fc"
      },
      "source": [
        "import numpy as np\n",
        "\n",
        "# 0부터 3까지의 배열 만들기\n",
        "array1 = np.arange(4)\n",
        "print(array1)\n",
        "\n",
        "# 0으로 초기화\n",
        "array2 = np.zeros((4, 4), dtype=float)\n",
        "print(array2)\n",
        "\n",
        "# 1로 초기화\n",
        "array3 = np.ones((3, 3), dtype=str)\n",
        "print(array3)\n",
        "\n",
        "# 0부터 9까지 랜덤하게 초기화 된 배열 만들기\n",
        "array4 = np.random.randint(0, 10, (3, 3))\n",
        "print(array4)\n",
        "\n",
        "# 평균이 0이고 표준편차가 1인 표준 정규를 띄는 배열\n",
        "array5 = np.random.normal(0, 1, (3, 3))\n",
        "print(array5)"
      ],
      "execution_count": 1,
      "outputs": [
        {
          "output_type": "stream",
          "text": [
            "[0 1 2 3]\n",
            "[[0. 0. 0. 0.]\n",
            " [0. 0. 0. 0.]\n",
            " [0. 0. 0. 0.]\n",
            " [0. 0. 0. 0.]]\n",
            "[['1' '1' '1']\n",
            " ['1' '1' '1']\n",
            " ['1' '1' '1']]\n",
            "[[1 6 0]\n",
            " [4 2 7]\n",
            " [7 5 4]]\n",
            "[[-1.5631559   0.54589515 -0.02948479]\n",
            " [ 0.64773549  1.71406116  1.0183282 ]\n",
            " [ 0.33686381  0.48065884  0.71341912]]\n"
          ],
          "name": "stdout"
        }
      ]
    },
    {
      "cell_type": "markdown",
      "metadata": {
        "id": "0ShdgtSYk1Ct"
      },
      "source": [
        "Numpy는 다양한 형태로 합치기가 가능"
      ]
    },
    {
      "cell_type": "code",
      "metadata": {
        "colab": {
          "base_uri": "https://localhost:8080/"
        },
        "id": "M8ruzbrZk3Up",
        "outputId": "74050df9-3d4c-49d9-fa99-78c3e5a4c39d"
      },
      "source": [
        "import numpy as np\n",
        "\n",
        "array1 = np.array([1, 2, 3]) \n",
        "array2 = np.array([4, 5, 6])\n",
        "array3 = np.concatenate([array1, array2])\n",
        "\n",
        "print(array3.shape)\n",
        "print(array3)"
      ],
      "execution_count": 2,
      "outputs": [
        {
          "output_type": "stream",
          "text": [
            "(6,)\n",
            "[1 2 3 4 5 6]\n"
          ],
          "name": "stdout"
        }
      ]
    },
    {
      "cell_type": "code",
      "metadata": {
        "colab": {
          "base_uri": "https://localhost:8080/"
        },
        "id": "AzY0Q5ftk-Q5",
        "outputId": "a5c0ab5b-d64b-47b7-b867-dce8454d2f4f"
      },
      "source": [
        "import numpy as np\n",
        "\n",
        "array1 = np.arange(4).reshape(1, 4)\n",
        "array2 = np.arange(8).reshape(2, 4)\n",
        "array3 = np.concatenate([array1, array2], axis=0)\n",
        "print(array1)\n",
        "print(array2)\n",
        "print(array3.shape)\n",
        "print(array3)"
      ],
      "execution_count": 7,
      "outputs": [
        {
          "output_type": "stream",
          "text": [
            "[[0 1 2 3]]\n",
            "[[0 1 2 3]\n",
            " [4 5 6 7]]\n",
            "(3, 4)\n",
            "[[0 1 2 3]\n",
            " [0 1 2 3]\n",
            " [4 5 6 7]]\n"
          ],
          "name": "stdout"
        }
      ]
    },
    {
      "cell_type": "markdown",
      "metadata": {
        "id": "_avvkYSnl4Pb"
      },
      "source": [
        "Numpy의 형태를 변경"
      ]
    },
    {
      "cell_type": "code",
      "metadata": {
        "colab": {
          "base_uri": "https://localhost:8080/"
        },
        "id": "xNofPlnWl5-X",
        "outputId": "73034e43-3e11-473c-d472-daf8ac8a119e"
      },
      "source": [
        "import numpy as np\n",
        "\n",
        "array1 = np.array([1, 2, 3, 4])\n",
        "array2 = array1.reshape((2, 2))\n",
        "print(array2)"
      ],
      "execution_count": 6,
      "outputs": [
        {
          "output_type": "stream",
          "text": [
            "[[1 2]\n",
            " [3 4]]\n"
          ],
          "name": "stdout"
        }
      ]
    },
    {
      "cell_type": "markdown",
      "metadata": {
        "id": "57WYoplEnC1x"
      },
      "source": [
        "Numpy의 형태를 나누기 할 수 있음"
      ]
    },
    {
      "cell_type": "code",
      "metadata": {
        "colab": {
          "base_uri": "https://localhost:8080/"
        },
        "id": "zG6x8tA0nOVo",
        "outputId": "aae90a4a-b3e7-4607-9731-e06e25e746f9"
      },
      "source": [
        "import numpy as np\n",
        "\n",
        "array = np.arange(8).reshape(2, 4)\n",
        "left, right = np.split(array, [2], axis=1)\n",
        "\n",
        "print(left.shape)\n",
        "print(right.shape)\n",
        "print(right[0][1])"
      ],
      "execution_count": 11,
      "outputs": [
        {
          "output_type": "stream",
          "text": [
            "(2, 2)\n",
            "(2, 2)\n",
            "3\n"
          ],
          "name": "stdout"
        }
      ]
    },
    {
      "cell_type": "code",
      "metadata": {
        "id": "vSQqGl2qn1tf"
      },
      "source": [
        ""
      ],
      "execution_count": null,
      "outputs": []
    }
  ]
}