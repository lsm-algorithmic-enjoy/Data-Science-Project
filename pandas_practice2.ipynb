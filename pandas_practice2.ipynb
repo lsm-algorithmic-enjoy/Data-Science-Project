{
  "nbformat": 4,
  "nbformat_minor": 0,
  "metadata": {
    "colab": {
      "name": "pandas practice2.ipynb",
      "provenance": [],
      "authorship_tag": "ABX9TyOktVgYulNlkat3j2UG7dYn",
      "include_colab_link": true
    },
    "kernelspec": {
      "name": "python3",
      "display_name": "Python 3"
    },
    "language_info": {
      "name": "python"
    },
    "accelerator": "GPU"
  },
  "cells": [
    {
      "cell_type": "markdown",
      "metadata": {
        "id": "view-in-github",
        "colab_type": "text"
      },
      "source": [
        "<a href=\"https://colab.research.google.com/github/seungmin-lee-dotcom/seungmin-lee-dotcom/blob/main/pandas_practice2.ipynb\" target=\"_parent\"><img src=\"https://colab.research.google.com/assets/colab-badge.svg\" alt=\"Open In Colab\"/></a>"
      ]
    },
    {
      "cell_type": "markdown",
      "metadata": {
        "id": "2B7AKqNSHmsZ"
      },
      "source": [
        "데이터 프레임의 Null 여부 확인"
      ]
    },
    {
      "cell_type": "code",
      "metadata": {
        "colab": {
          "base_uri": "https://localhost:8080/"
        },
        "id": "kB1WgIXOH6vP",
        "outputId": "204ed5ac-b910-46d6-b3bd-6692e3d5634b"
      },
      "source": [
        "import pandas as pd\n",
        "import numpy as np\n",
        "\n",
        "word_dict = {\n",
        "    'Apple': '사과',\n",
        "    'Banana': '바나나',\n",
        "    'Carrot': '당근',\n",
        "    'Durian': '두리안'\n",
        "}\n",
        "\n",
        "frequency_dict = {\n",
        "    'Apple': 3,\n",
        "    'Banana': 5,\n",
        "    'Carrot': np.nan,\n",
        "    'Durian': 2\n",
        "}\n",
        "\n",
        "importance_dict = {\n",
        "    'Apple': 3,\n",
        "    'Banana': 2,\n",
        "    'Carrot': 1,\n",
        "    'Durian': 1\n",
        "}\n",
        "\n",
        "word = pd.Series(word_dict)\n",
        "frequency = pd.Series(frequency_dict)\n",
        "importance = pd.Series(importance_dict)\n",
        "\n",
        "summary = pd.DataFrame({\n",
        "    'word': word,\n",
        "    'frequency': frequency,\n",
        "    'importance': importance\n",
        "})\n",
        "\n",
        "print(summary)\n",
        "print(summary.notnull())\n",
        "print(summary.isnull())\n",
        "summary['frequency'] = summary['frequency'].fillna('데이터 없음')\n",
        "print(summary)"
      ],
      "execution_count": 1,
      "outputs": [
        {
          "output_type": "stream",
          "text": [
            "       word  frequency  importance\n",
            "Apple    사과        3.0           3\n",
            "Banana  바나나        5.0           2\n",
            "Carrot   당근        NaN           1\n",
            "Durian  두리안        2.0           1\n",
            "        word  frequency  importance\n",
            "Apple   True       True        True\n",
            "Banana  True       True        True\n",
            "Carrot  True      False        True\n",
            "Durian  True       True        True\n",
            "         word  frequency  importance\n",
            "Apple   False      False       False\n",
            "Banana  False      False       False\n",
            "Carrot  False       True       False\n",
            "Durian  False      False       False\n",
            "       word frequency  importance\n",
            "Apple    사과         3           3\n",
            "Banana  바나나         5           2\n",
            "Carrot   당근    데이터 없음           1\n",
            "Durian  두리안         2           1\n"
          ],
          "name": "stdout"
        }
      ]
    },
    {
      "cell_type": "markdown",
      "metadata": {
        "id": "eudJMbm3JMX_"
      },
      "source": [
        "시리즈 자료형의 연산"
      ]
    },
    {
      "cell_type": "code",
      "metadata": {
        "colab": {
          "base_uri": "https://localhost:8080/"
        },
        "id": "msb4iQy7JOcr",
        "outputId": "f5d6a3dd-7871-4edf-8d39-97c3ee1feacc"
      },
      "source": [
        "import pandas as pd\n",
        "\n",
        "array1 = pd.Series([1, 2, 3], index=['A', 'B', 'C'])\n",
        "array2 = pd.Series([4, 5, 6], index=['B', 'C', 'D'])\n",
        "\n",
        "array = array1.add(array2, fill_value=0)\n",
        "print(array)"
      ],
      "execution_count": 2,
      "outputs": [
        {
          "output_type": "stream",
          "text": [
            "A    1.0\n",
            "B    6.0\n",
            "C    8.0\n",
            "D    6.0\n",
            "dtype: float64\n"
          ],
          "name": "stdout"
        }
      ]
    },
    {
      "cell_type": "code",
      "metadata": {
        "colab": {
          "base_uri": "https://localhost:8080/"
        },
        "id": "0Ni7mHigJrn5",
        "outputId": "1fdd4e02-4719-484a-8c3c-3ceed4685c5b"
      },
      "source": [
        "import pandas as pd\n",
        "\n",
        "array1 = pd.Series([1, 2, 3], index=['A', 'B', 'C'])\n",
        "array2 = pd.Series([4, 5, 6], index=['B', 'C', 'D'])\n",
        "\n",
        "array = array1.add(array2) # 겹치지 않기 때문에 NULL 나올거라 예상할 수 있음\n",
        "print(array)"
      ],
      "execution_count": 3,
      "outputs": [
        {
          "output_type": "stream",
          "text": [
            "A    NaN\n",
            "B    6.0\n",
            "C    8.0\n",
            "D    NaN\n",
            "dtype: float64\n"
          ],
          "name": "stdout"
        }
      ]
    },
    {
      "cell_type": "markdown",
      "metadata": {
        "id": "-9TVv36hKJuH"
      },
      "source": [
        "데이터 프레임 자료형의 연산\n",
        "\n"
      ]
    },
    {
      "cell_type": "code",
      "metadata": {
        "colab": {
          "base_uri": "https://localhost:8080/"
        },
        "id": "94jUWAS5KQNA",
        "outputId": "9ddc3696-8416-43c2-ec05-1727a11e2c79"
      },
      "source": [
        "import pandas as pd\n",
        "\n",
        "array1 = pd.DataFrame([[1, 2], [3, 4]], index=['A', 'B'])\n",
        "array2 = pd.DataFrame([[1, 2, 3], [4, 5, 6], [7, 8, 9]], index=['B', 'C', 'D'])\n",
        "\n",
        "print(array1)\n",
        "print(array2)\n",
        "\n",
        "array = array1.add(array2, fill_value=0)\n",
        "print(array)"
      ],
      "execution_count": 4,
      "outputs": [
        {
          "output_type": "stream",
          "text": [
            "   0  1\n",
            "A  1  2\n",
            "B  3  4\n",
            "   0  1  2\n",
            "B  1  2  3\n",
            "C  4  5  6\n",
            "D  7  8  9\n",
            "     0    1    2\n",
            "A  1.0  2.0  NaN\n",
            "B  4.0  6.0  3.0\n",
            "C  4.0  5.0  6.0\n",
            "D  7.0  8.0  9.0\n"
          ],
          "name": "stdout"
        }
      ]
    },
    {
      "cell_type": "markdown",
      "metadata": {
        "id": "DVbVLNlALIbs"
      },
      "source": [
        "데이터 프레임 집계 함수"
      ]
    },
    {
      "cell_type": "code",
      "metadata": {
        "colab": {
          "base_uri": "https://localhost:8080/"
        },
        "id": "BfPgCK8NLLYm",
        "outputId": "33115b23-d0ca-4775-cccf-ed9642932e80"
      },
      "source": [
        "import pandas as pd\n",
        "\n",
        "array1 = pd.DataFrame([[1, 2], [3, 4]], index=['A', 'B'])\n",
        "array2 = pd.DataFrame([[1, 2, 3], [4, 5, 6], [7, 8, 9]], index=['B', 'C', 'D'])\n",
        "\n",
        "array = array1.add(array2, fill_value=0)\n",
        "print(array)\n",
        "print(\"컬럼 1의 합:\", array[1].sum())\n",
        "print(array.sum())"
      ],
      "execution_count": 5,
      "outputs": [
        {
          "output_type": "stream",
          "text": [
            "     0    1    2\n",
            "A  1.0  2.0  NaN\n",
            "B  4.0  6.0  3.0\n",
            "C  4.0  5.0  6.0\n",
            "D  7.0  8.0  9.0\n",
            "컬럼 1의 합: 21.0\n",
            "0    16.0\n",
            "1    21.0\n",
            "2    18.0\n",
            "dtype: float64\n"
          ],
          "name": "stdout"
        }
      ]
    },
    {
      "cell_type": "markdown",
      "metadata": {
        "id": "lTPVBvEFL6x5"
      },
      "source": [
        "데이터 프레임 정렬 함수"
      ]
    },
    {
      "cell_type": "code",
      "metadata": {
        "colab": {
          "base_uri": "https://localhost:8080/"
        },
        "id": "g0rYhnqsL9Rj",
        "outputId": "d22f98f3-d329-451e-c87a-08c0249c6169"
      },
      "source": [
        "import pandas as pd\n",
        "import numpy as np\n",
        "\n",
        "word_dict = {\n",
        "    'Apple': '사과',\n",
        "    'Banana': '바나나',\n",
        "    'Carrot': '당근',\n",
        "    'Durian': '두리안'\n",
        "}\n",
        "\n",
        "frequency_dict = {\n",
        "    'Apple': 3,\n",
        "    'Banana': 5,\n",
        "    'Carrot': 1,\n",
        "    'Durian': 2\n",
        "}\n",
        "\n",
        "importance_dict = {\n",
        "    'Apple': 3,\n",
        "    'Banana': 2,\n",
        "    'Carrot': 1,\n",
        "    'Durian': 1\n",
        "}\n",
        "\n",
        "word = pd.Series(word_dict)\n",
        "frequency = pd.Series(frequency_dict)\n",
        "importance = pd.Series(importance_dict)\n",
        "\n",
        "summary = pd.DataFrame({\n",
        "    'word': word,\n",
        "    'frequency': frequency,\n",
        "    'importance': importance\n",
        "})\n",
        "\n",
        "print(summary)\n",
        "summary = summary.sort_values('frequency', ascending=True) # frequency 부분을 오름차순 정렬함)\n",
        "print(summary)"
      ],
      "execution_count": 10,
      "outputs": [
        {
          "output_type": "stream",
          "text": [
            "       word  frequency  importance\n",
            "Apple    사과          3           3\n",
            "Banana  바나나          5           2\n",
            "Carrot   당근          1           1\n",
            "Durian  두리안          2           1\n",
            "       word  frequency  importance\n",
            "Carrot   당근          1           1\n",
            "Durian  두리안          2           1\n",
            "Apple    사과          3           3\n",
            "Banana  바나나          5           2\n"
          ],
          "name": "stdout"
        }
      ]
    },
    {
      "cell_type": "code",
      "metadata": {
        "id": "zKhWuWsMMTp9"
      },
      "source": [
        ""
      ],
      "execution_count": null,
      "outputs": []
    }
  ]
}